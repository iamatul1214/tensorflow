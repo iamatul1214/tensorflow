{
  "nbformat": 4,
  "nbformat_minor": 0,
  "metadata": {
    "colab": {
      "name": "Alexnet Architecture.ipynb",
      "provenance": [],
      "authorship_tag": "ABX9TyNs+/glQwnmnf9YMmVadyvd",
      "include_colab_link": true
    },
    "kernelspec": {
      "name": "python3",
      "display_name": "Python 3"
    },
    "language_info": {
      "name": "python"
    }
  },
  "cells": [
    {
      "cell_type": "markdown",
      "metadata": {
        "id": "view-in-github",
        "colab_type": "text"
      },
      "source": [
        "<a href=\"https://colab.research.google.com/github/iamatul1214/tensorflow/blob/main/Alexnet_Architecture.ipynb\" target=\"_parent\"><img src=\"https://colab.research.google.com/assets/colab-badge.svg\" alt=\"Open In Colab\"/></a>"
      ]
    },
    {
      "cell_type": "code",
      "source": [
        "import tensorflow as tf\n",
        "from tensorflow.keras.models import Sequential\n",
        "from tensorflow.keras.layers import Dense, Activation, Dropout,Flatten, Conv2D, MaxPool2D, BatchNormalization"
      ],
      "metadata": {
        "id": "qld2TR-vAsgS"
      },
      "execution_count": 4,
      "outputs": []
    },
    {
      "cell_type": "code",
      "source": [
        "tf.__version__"
      ],
      "metadata": {
        "colab": {
          "base_uri": "https://localhost:8080/",
          "height": 35
        },
        "id": "3oXmZkUiASWB",
        "outputId": "450927e5-fef1-423b-cbb4-6255ab04a167"
      },
      "execution_count": 5,
      "outputs": [
        {
          "output_type": "execute_result",
          "data": {
            "text/plain": [
              "'2.8.0'"
            ],
            "application/vnd.google.colaboratory.intrinsic+json": {
              "type": "string"
            }
          },
          "metadata": {},
          "execution_count": 5
        }
      ]
    },
    {
      "cell_type": "markdown",
      "source": [
        "### Let's create the Alexnet achitecture"
      ],
      "metadata": {
        "id": "KSYIYJ3sAyF3"
      }
    },
    {
      "cell_type": "code",
      "source": [
        "# ## creating sequential model\n",
        "# model = Sequential()\n",
        "\n",
        "# ## 1st Conv layer\n",
        "# model.add(Conv2D(filters = 96, input_shape = (227,227,3), kernel_size=(11,11), strides=(4,4), padding='valid'))   ## padding = valid means padding =0\n",
        "# model.add(Activation('relu'))   ## activation layer\n",
        "# model.add(MaxPool2D(pool_size=(3,3), strides=(2,2), padding='valid')) ## pooling\n",
        "# model.add(BatchNormalization())         ## adding batch normalization in every layer\n",
        "\n",
        "# ## 2nd Conv layer\n",
        "# model.add(Conv2D(filters=256, kernel_size=(5,5), strides=(1,1),padding='same'))   ## padding = same helps in retaining the same image size after convolution\n",
        "# model.add(Activation('relu'))\n",
        "# model.add(MaxPool2D(pool_size=(3,3), strides=(2,2), padding='valid'))\n",
        "# model.add(BatchNormalization)\n",
        "\n",
        "# ## 3rd Conv layer\n",
        "# model.add(Conv2D(filters = 384,kernel_size=(3,3), strides=(1,1), padding='valid'))   ## padding = valid means padding =0\n",
        "# model.add(Activation('relu'))   ## activation layer\n",
        "# model.add(BatchNormalization())         ## adding batch normalization in every layer\n",
        "\n",
        "# ## 4th Conv layer\n",
        "# model.add(Conv2D(filters = 384,kernel_size=(3,3), strides=(1,1), padding='same'))   ## padding = valid means padding =0\n",
        "# model.add(Activation('relu'))   ## activation layer\n",
        "# model.add(BatchNormalization())         ## adding batch normalization in every layer\n",
        "\n",
        "# ## 5th Conv layer\n",
        "# model.add(Conv2D(filters = 256,kernel_size=(3,3), strides=(1,1), padding='same'))   ## padding = valid means padding =0\n",
        "# model.add(Activation('relu'))   ## activation layer\n",
        "# model.add(MaxPool2D(pool_size=(3,3), strides=(2,2), padding='valid'))\n",
        "# model.add(BatchNormalization())         ## adding batch normalization in every layer\n",
        "\n",
        "# ## making it into flatten layer so that we can pass it into fully connected layer\n",
        "# model.add(Flatten())\n",
        "\n",
        "# ## 1st fully connected layer\n",
        "\n",
        "# model.add(Dense(4096, input_shape=(227,227,3)))\n",
        "# model.add(Activation('relu'))\n",
        "# model.add(Dropout(0.4))   ## Adding dropout to prevent overfitting\n",
        "# model.add(BatchNormalization)\n",
        "\n",
        "# ## second fully connected layer\n",
        "# model.add(Dense((4096))\n",
        "# model.add(Activation('relu'))\n",
        "# model.add(Dropout(0.4))   ## Adding dropout to prevent overfitting\n",
        "# model.add(BatchNormalization)\n",
        "\n",
        "# ## third fully connected layer\n",
        "# model.add(Dense((1000))         ## using 1000 neurons because of output is of 1000 class label\n",
        "# model.add(Activation('relu'))\n",
        "# model.add(Dropout(0.4))   ## Adding dropout to prevent overfitting\n",
        "# model.add(BatchNormalization)\n",
        "\n",
        "# # Output Layer\n",
        "# model.add(Dense(1000))\n",
        "# model.add(Activation('softmax'))\n",
        "\n",
        "# model.summary()\n"
      ],
      "metadata": {
        "id": "u346S6d1Aug4"
      },
      "execution_count": 16,
      "outputs": []
    },
    {
      "cell_type": "code",
      "source": [
        "import numpy as np\n",
        "\n",
        "np.random.seed(1000)\n",
        "\n",
        "#Instantiation\n",
        "AlexNet = Sequential()\n",
        "\n",
        "#1st Convolutional Layer\n",
        "AlexNet.add(Conv2D(filters=96, input_shape=(227,227,3), kernel_size=(11,11), strides=(4,4), padding='same'))\n",
        "AlexNet.add(BatchNormalization())\n",
        "AlexNet.add(Activation('relu'))\n",
        "AlexNet.add(MaxPooling2D(pool_size=(2,2), strides=(2,2), padding='same'))\n",
        "\n",
        "#2nd Convolutional Layer\n",
        "AlexNet.add(Conv2D(filters=256, kernel_size=(5, 5), strides=(1,1), padding='same'))\n",
        "AlexNet.add(BatchNormalization())\n",
        "AlexNet.add(Activation('relu'))\n",
        "AlexNet.add(MaxPooling2D(pool_size=(2,2), strides=(2,2), padding='same'))\n",
        "\n",
        "#3rd Convolutional Layer\n",
        "AlexNet.add(Conv2D(filters=384, kernel_size=(3,3), strides=(1,1), padding='same'))\n",
        "AlexNet.add(BatchNormalization())\n",
        "AlexNet.add(Activation('relu'))\n",
        "\n",
        "#4th Convolutional Layer\n",
        "AlexNet.add(Conv2D(filters=384, kernel_size=(3,3), strides=(1,1), padding='same'))\n",
        "AlexNet.add(BatchNormalization())\n",
        "AlexNet.add(Activation('relu'))\n",
        "\n",
        "#5th Convolutional Layer\n",
        "AlexNet.add(Conv2D(filters=256, kernel_size=(3,3), strides=(1,1), padding='same'))\n",
        "AlexNet.add(BatchNormalization())\n",
        "AlexNet.add(Activation('relu'))\n",
        "AlexNet.add(MaxPooling2D(pool_size=(2,2), strides=(2,2), padding='same'))\n",
        "\n",
        "#Passing it to a Fully Connected layer\n",
        "AlexNet.add(Flatten())\n",
        "# 1st Fully Connected Layer\n",
        "AlexNet.add(Dense(4096, input_shape=(227,227,3)))\n",
        "AlexNet.add(BatchNormalization())\n",
        "AlexNet.add(Activation('relu'))\n",
        "# Add Dropout to prevent overfitting\n",
        "AlexNet.add(Dropout(0.4))\n",
        "\n",
        "#2nd Fully Connected Layer\n",
        "AlexNet.add(Dense(4096))\n",
        "AlexNet.add(BatchNormalization())\n",
        "AlexNet.add(Activation('relu'))\n",
        "#Add Dropout\n",
        "AlexNet.add(Dropout(0.4))\n",
        "\n",
        "#3rd Fully Connected Layer\n",
        "AlexNet.add(Dense(1000))\n",
        "AlexNet.add(BatchNormalization())\n",
        "AlexNet.add(Activation('relu'))\n",
        "#Add Dropout\n",
        "AlexNet.add(Dropout(0.4))\n",
        "\n",
        "#Output Layer\n",
        "AlexNet.add(Dense(1000))\n",
        "AlexNet.add(BatchNormalization())\n",
        "AlexNet.add(Activation('softmax'))\n",
        "\n",
        "#Model Summary\n",
        "AlexNet.summary()"
      ],
      "metadata": {
        "colab": {
          "base_uri": "https://localhost:8080/"
        },
        "id": "XP4gKryYGhZR",
        "outputId": "8a3cb95e-3556-433a-f882-939a8303c262"
      },
      "execution_count": 17,
      "outputs": [
        {
          "output_type": "stream",
          "name": "stdout",
          "text": [
            "Model: \"sequential_3\"\n",
            "_________________________________________________________________\n",
            " Layer (type)                Output Shape              Param #   \n",
            "=================================================================\n",
            " conv2d_11 (Conv2D)          (None, 57, 57, 96)        34944     \n",
            "                                                                 \n",
            " batch_normalization_19 (Bat  (None, 57, 57, 96)       384       \n",
            " chNormalization)                                                \n",
            "                                                                 \n",
            " activation_19 (Activation)  (None, 57, 57, 96)        0         \n",
            "                                                                 \n",
            " max_pooling2d_7 (MaxPooling  (None, 29, 29, 96)       0         \n",
            " 2D)                                                             \n",
            "                                                                 \n",
            " conv2d_12 (Conv2D)          (None, 29, 29, 256)       614656    \n",
            "                                                                 \n",
            " batch_normalization_20 (Bat  (None, 29, 29, 256)      1024      \n",
            " chNormalization)                                                \n",
            "                                                                 \n",
            " activation_20 (Activation)  (None, 29, 29, 256)       0         \n",
            "                                                                 \n",
            " max_pooling2d_8 (MaxPooling  (None, 15, 15, 256)      0         \n",
            " 2D)                                                             \n",
            "                                                                 \n",
            " conv2d_13 (Conv2D)          (None, 15, 15, 384)       885120    \n",
            "                                                                 \n",
            " batch_normalization_21 (Bat  (None, 15, 15, 384)      1536      \n",
            " chNormalization)                                                \n",
            "                                                                 \n",
            " activation_21 (Activation)  (None, 15, 15, 384)       0         \n",
            "                                                                 \n",
            " conv2d_14 (Conv2D)          (None, 15, 15, 384)       1327488   \n",
            "                                                                 \n",
            " batch_normalization_22 (Bat  (None, 15, 15, 384)      1536      \n",
            " chNormalization)                                                \n",
            "                                                                 \n",
            " activation_22 (Activation)  (None, 15, 15, 384)       0         \n",
            "                                                                 \n",
            " conv2d_15 (Conv2D)          (None, 15, 15, 256)       884992    \n",
            "                                                                 \n",
            " batch_normalization_23 (Bat  (None, 15, 15, 256)      1024      \n",
            " chNormalization)                                                \n",
            "                                                                 \n",
            " activation_23 (Activation)  (None, 15, 15, 256)       0         \n",
            "                                                                 \n",
            " max_pooling2d_9 (MaxPooling  (None, 8, 8, 256)        0         \n",
            " 2D)                                                             \n",
            "                                                                 \n",
            " flatten_2 (Flatten)         (None, 16384)             0         \n",
            "                                                                 \n",
            " dense_8 (Dense)             (None, 4096)              67112960  \n",
            "                                                                 \n",
            " batch_normalization_24 (Bat  (None, 4096)             16384     \n",
            " chNormalization)                                                \n",
            "                                                                 \n",
            " activation_24 (Activation)  (None, 4096)              0         \n",
            "                                                                 \n",
            " dropout_6 (Dropout)         (None, 4096)              0         \n",
            "                                                                 \n",
            " dense_9 (Dense)             (None, 4096)              16781312  \n",
            "                                                                 \n",
            " batch_normalization_25 (Bat  (None, 4096)             16384     \n",
            " chNormalization)                                                \n",
            "                                                                 \n",
            " activation_25 (Activation)  (None, 4096)              0         \n",
            "                                                                 \n",
            " dropout_7 (Dropout)         (None, 4096)              0         \n",
            "                                                                 \n",
            " dense_10 (Dense)            (None, 1000)              4097000   \n",
            "                                                                 \n",
            " batch_normalization_26 (Bat  (None, 1000)             4000      \n",
            " chNormalization)                                                \n",
            "                                                                 \n",
            " activation_26 (Activation)  (None, 1000)              0         \n",
            "                                                                 \n",
            " dropout_8 (Dropout)         (None, 1000)              0         \n",
            "                                                                 \n",
            " dense_11 (Dense)            (None, 1000)              1001000   \n",
            "                                                                 \n",
            " batch_normalization_27 (Bat  (None, 1000)             4000      \n",
            " chNormalization)                                                \n",
            "                                                                 \n",
            " activation_27 (Activation)  (None, 1000)              0         \n",
            "                                                                 \n",
            "=================================================================\n",
            "Total params: 92,785,744\n",
            "Trainable params: 92,762,608\n",
            "Non-trainable params: 23,136\n",
            "_________________________________________________________________\n"
          ]
        }
      ]
    },
    {
      "cell_type": "code",
      "source": [
        ""
      ],
      "metadata": {
        "id": "FAkxwNQ-MNdK"
      },
      "execution_count": null,
      "outputs": []
    }
  ]
}