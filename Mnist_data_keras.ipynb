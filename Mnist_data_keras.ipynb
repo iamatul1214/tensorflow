{
  "nbformat": 4,
  "nbformat_minor": 0,
  "metadata": {
    "colab": {
      "name": "Mnist_data_keras.ipynb",
      "provenance": [],
      "collapsed_sections": [],
      "authorship_tag": "ABX9TyPifxIfymNJOk7qeVCYN73e",
      "include_colab_link": true
    },
    "kernelspec": {
      "name": "python3",
      "display_name": "Python 3"
    },
    "language_info": {
      "name": "python"
    },
    "accelerator": "GPU"
  },
  "cells": [
    {
      "cell_type": "markdown",
      "metadata": {
        "id": "view-in-github",
        "colab_type": "text"
      },
      "source": [
        "<a href=\"https://colab.research.google.com/github/iamatul1214/tensorflow/blob/main/Mnist_data_keras.ipynb\" target=\"_parent\"><img src=\"https://colab.research.google.com/assets/colab-badge.svg\" alt=\"Open In Colab\"/></a>"
      ]
    },
    {
      "cell_type": "code",
      "execution_count": 86,
      "metadata": {
        "id": "hDYCUYUIvQPZ"
      },
      "outputs": [],
      "source": [
        "import pandas as pd\n",
        "import numpy as np\n",
        "import matplotlib.pyplot as plt\n",
        "import tensorflow as tf\n",
        "import seaborn as sns"
      ]
    },
    {
      "cell_type": "code",
      "source": [
        "## Let's check the tensorflow version\n",
        "tf.__version__"
      ],
      "metadata": {
        "colab": {
          "base_uri": "https://localhost:8080/",
          "height": 35
        },
        "id": "Oifp5gNJv-li",
        "outputId": "30a25535-60c6-471d-8fe1-b039f729ab90"
      },
      "execution_count": 87,
      "outputs": [
        {
          "output_type": "execute_result",
          "data": {
            "text/plain": [
              "'2.8.0'"
            ],
            "application/vnd.google.colaboratory.intrinsic+json": {
              "type": "string"
            }
          },
          "metadata": {},
          "execution_count": 87
        }
      ]
    },
    {
      "cell_type": "code",
      "source": [
        "tf.config.list_physical_devices('GPU')   ## It will print the GPUs connected"
      ],
      "metadata": {
        "colab": {
          "base_uri": "https://localhost:8080/"
        },
        "id": "l3FIBFp7wNKv",
        "outputId": "074c6042-66cf-47ca-dbe3-7fc4ac4643a6"
      },
      "execution_count": 88,
      "outputs": [
        {
          "output_type": "execute_result",
          "data": {
            "text/plain": [
              "[]"
            ]
          },
          "metadata": {},
          "execution_count": 88
        }
      ]
    },
    {
      "cell_type": "code",
      "source": [
        "## Let's take a dataset called mnist dataset, which is already provided by the keras. Keras is a high level wrapper API, which is built over tensorflow.\n",
        "mnist = tf.keras.datasets.mnist"
      ],
      "metadata": {
        "id": "Hc164p0RwVC1"
      },
      "execution_count": 89,
      "outputs": []
    },
    {
      "cell_type": "code",
      "source": [
        "## Let's divide the data for training and testing set, load_data() will download the mnist dataset.\n",
        "(x_train_full, y_train_full), (x_test, y_test) = mnist.load_data()\n"
      ],
      "metadata": {
        "id": "QKYoCBVuwiKb"
      },
      "execution_count": 90,
      "outputs": []
    },
    {
      "cell_type": "code",
      "source": [
        "## Let's check the shape of the x_train\n",
        "x_train_full.shape"
      ],
      "metadata": {
        "colab": {
          "base_uri": "https://localhost:8080/"
        },
        "id": "FeYzkfkUxKrE",
        "outputId": "295e5e7c-8313-4c33-e33b-fcc12d34c796"
      },
      "execution_count": 91,
      "outputs": [
        {
          "output_type": "execute_result",
          "data": {
            "text/plain": [
              "(60000, 28, 28)"
            ]
          },
          "metadata": {},
          "execution_count": 91
        }
      ]
    },
    {
      "cell_type": "markdown",
      "source": [
        "### As we saw, the shape of data is (60000,28,28) which means there are 60000 images with size of 28 x 28. Means, we have 28 x 28 matrix for data points. As an image is collection of matrix only. If it is RGB image then there will be 28 x 28 matrix with 3 layers, one for R, one for G and one for B."
      ],
      "metadata": {
        "id": "o_StfHazyHEW"
      }
    },
    {
      "cell_type": "code",
      "source": [
        "x_test.shape    ## We have 10000 images for the testing"
      ],
      "metadata": {
        "colab": {
          "base_uri": "https://localhost:8080/"
        },
        "id": "iPUENn0iyBwO",
        "outputId": "81980015-3d75-4d04-ff03-d0abb38f1685"
      },
      "execution_count": 92,
      "outputs": [
        {
          "output_type": "execute_result",
          "data": {
            "text/plain": [
              "(10000, 28, 28)"
            ]
          },
          "metadata": {},
          "execution_count": 92
        }
      ]
    },
    {
      "cell_type": "code",
      "source": [
        "img = x_train_full[0]\n",
        "img"
      ],
      "metadata": {
        "colab": {
          "base_uri": "https://localhost:8080/"
        },
        "id": "sbUCUaz17fxo",
        "outputId": "d781187f-4ca6-4d0a-f6b3-aea0ae91c744"
      },
      "execution_count": 93,
      "outputs": [
        {
          "output_type": "execute_result",
          "data": {
            "text/plain": [
              "array([[  0,   0,   0,   0,   0,   0,   0,   0,   0,   0,   0,   0,   0,\n",
              "          0,   0,   0,   0,   0,   0,   0,   0,   0,   0,   0,   0,   0,\n",
              "          0,   0],\n",
              "       [  0,   0,   0,   0,   0,   0,   0,   0,   0,   0,   0,   0,   0,\n",
              "          0,   0,   0,   0,   0,   0,   0,   0,   0,   0,   0,   0,   0,\n",
              "          0,   0],\n",
              "       [  0,   0,   0,   0,   0,   0,   0,   0,   0,   0,   0,   0,   0,\n",
              "          0,   0,   0,   0,   0,   0,   0,   0,   0,   0,   0,   0,   0,\n",
              "          0,   0],\n",
              "       [  0,   0,   0,   0,   0,   0,   0,   0,   0,   0,   0,   0,   0,\n",
              "          0,   0,   0,   0,   0,   0,   0,   0,   0,   0,   0,   0,   0,\n",
              "          0,   0],\n",
              "       [  0,   0,   0,   0,   0,   0,   0,   0,   0,   0,   0,   0,   0,\n",
              "          0,   0,   0,   0,   0,   0,   0,   0,   0,   0,   0,   0,   0,\n",
              "          0,   0],\n",
              "       [  0,   0,   0,   0,   0,   0,   0,   0,   0,   0,   0,   0,   3,\n",
              "         18,  18,  18, 126, 136, 175,  26, 166, 255, 247, 127,   0,   0,\n",
              "          0,   0],\n",
              "       [  0,   0,   0,   0,   0,   0,   0,   0,  30,  36,  94, 154, 170,\n",
              "        253, 253, 253, 253, 253, 225, 172, 253, 242, 195,  64,   0,   0,\n",
              "          0,   0],\n",
              "       [  0,   0,   0,   0,   0,   0,   0,  49, 238, 253, 253, 253, 253,\n",
              "        253, 253, 253, 253, 251,  93,  82,  82,  56,  39,   0,   0,   0,\n",
              "          0,   0],\n",
              "       [  0,   0,   0,   0,   0,   0,   0,  18, 219, 253, 253, 253, 253,\n",
              "        253, 198, 182, 247, 241,   0,   0,   0,   0,   0,   0,   0,   0,\n",
              "          0,   0],\n",
              "       [  0,   0,   0,   0,   0,   0,   0,   0,  80, 156, 107, 253, 253,\n",
              "        205,  11,   0,  43, 154,   0,   0,   0,   0,   0,   0,   0,   0,\n",
              "          0,   0],\n",
              "       [  0,   0,   0,   0,   0,   0,   0,   0,   0,  14,   1, 154, 253,\n",
              "         90,   0,   0,   0,   0,   0,   0,   0,   0,   0,   0,   0,   0,\n",
              "          0,   0],\n",
              "       [  0,   0,   0,   0,   0,   0,   0,   0,   0,   0,   0, 139, 253,\n",
              "        190,   2,   0,   0,   0,   0,   0,   0,   0,   0,   0,   0,   0,\n",
              "          0,   0],\n",
              "       [  0,   0,   0,   0,   0,   0,   0,   0,   0,   0,   0,  11, 190,\n",
              "        253,  70,   0,   0,   0,   0,   0,   0,   0,   0,   0,   0,   0,\n",
              "          0,   0],\n",
              "       [  0,   0,   0,   0,   0,   0,   0,   0,   0,   0,   0,   0,  35,\n",
              "        241, 225, 160, 108,   1,   0,   0,   0,   0,   0,   0,   0,   0,\n",
              "          0,   0],\n",
              "       [  0,   0,   0,   0,   0,   0,   0,   0,   0,   0,   0,   0,   0,\n",
              "         81, 240, 253, 253, 119,  25,   0,   0,   0,   0,   0,   0,   0,\n",
              "          0,   0],\n",
              "       [  0,   0,   0,   0,   0,   0,   0,   0,   0,   0,   0,   0,   0,\n",
              "          0,  45, 186, 253, 253, 150,  27,   0,   0,   0,   0,   0,   0,\n",
              "          0,   0],\n",
              "       [  0,   0,   0,   0,   0,   0,   0,   0,   0,   0,   0,   0,   0,\n",
              "          0,   0,  16,  93, 252, 253, 187,   0,   0,   0,   0,   0,   0,\n",
              "          0,   0],\n",
              "       [  0,   0,   0,   0,   0,   0,   0,   0,   0,   0,   0,   0,   0,\n",
              "          0,   0,   0,   0, 249, 253, 249,  64,   0,   0,   0,   0,   0,\n",
              "          0,   0],\n",
              "       [  0,   0,   0,   0,   0,   0,   0,   0,   0,   0,   0,   0,   0,\n",
              "          0,  46, 130, 183, 253, 253, 207,   2,   0,   0,   0,   0,   0,\n",
              "          0,   0],\n",
              "       [  0,   0,   0,   0,   0,   0,   0,   0,   0,   0,   0,   0,  39,\n",
              "        148, 229, 253, 253, 253, 250, 182,   0,   0,   0,   0,   0,   0,\n",
              "          0,   0],\n",
              "       [  0,   0,   0,   0,   0,   0,   0,   0,   0,   0,  24, 114, 221,\n",
              "        253, 253, 253, 253, 201,  78,   0,   0,   0,   0,   0,   0,   0,\n",
              "          0,   0],\n",
              "       [  0,   0,   0,   0,   0,   0,   0,   0,  23,  66, 213, 253, 253,\n",
              "        253, 253, 198,  81,   2,   0,   0,   0,   0,   0,   0,   0,   0,\n",
              "          0,   0],\n",
              "       [  0,   0,   0,   0,   0,   0,  18, 171, 219, 253, 253, 253, 253,\n",
              "        195,  80,   9,   0,   0,   0,   0,   0,   0,   0,   0,   0,   0,\n",
              "          0,   0],\n",
              "       [  0,   0,   0,   0,  55, 172, 226, 253, 253, 253, 253, 244, 133,\n",
              "         11,   0,   0,   0,   0,   0,   0,   0,   0,   0,   0,   0,   0,\n",
              "          0,   0],\n",
              "       [  0,   0,   0,   0, 136, 253, 253, 253, 212, 135, 132,  16,   0,\n",
              "          0,   0,   0,   0,   0,   0,   0,   0,   0,   0,   0,   0,   0,\n",
              "          0,   0],\n",
              "       [  0,   0,   0,   0,   0,   0,   0,   0,   0,   0,   0,   0,   0,\n",
              "          0,   0,   0,   0,   0,   0,   0,   0,   0,   0,   0,   0,   0,\n",
              "          0,   0],\n",
              "       [  0,   0,   0,   0,   0,   0,   0,   0,   0,   0,   0,   0,   0,\n",
              "          0,   0,   0,   0,   0,   0,   0,   0,   0,   0,   0,   0,   0,\n",
              "          0,   0],\n",
              "       [  0,   0,   0,   0,   0,   0,   0,   0,   0,   0,   0,   0,   0,\n",
              "          0,   0,   0,   0,   0,   0,   0,   0,   0,   0,   0,   0,   0,\n",
              "          0,   0]], dtype=uint8)"
            ]
          },
          "metadata": {},
          "execution_count": 93
        }
      ]
    },
    {
      "cell_type": "code",
      "source": [
        "plt.imshow(img, cmap='binary')"
      ],
      "metadata": {
        "colab": {
          "base_uri": "https://localhost:8080/",
          "height": 283
        },
        "id": "UGfqtU1M7jMO",
        "outputId": "89b22a9e-700a-4e90-cadb-3bfdc8d9563e"
      },
      "execution_count": 94,
      "outputs": [
        {
          "output_type": "execute_result",
          "data": {
            "text/plain": [
              "<matplotlib.image.AxesImage at 0x7fd11b7cfa90>"
            ]
          },
          "metadata": {},
          "execution_count": 94
        },
        {
          "output_type": "display_data",
          "data": {
            "text/plain": [
              "<Figure size 432x288 with 1 Axes>"
            ],
            "image/png": "[encoded data removed]"
          },
          "metadata": {
            "needs_background": "light"
          }
        }
      ]
    },
    {
      "cell_type": "markdown",
      "source": [
        "### The above image shows that the number is 5. Now we will plot the heatmap to see the pixel intensity. But there, we will normalize the pixels into 0 to 1 by dividing image by 255 as the enitre matrix will get divided by 255. Since, the matrix is ranged between 0 to 255. Hence, dividing it by 255 will be normalize the values between 0 and 1."
      ],
      "metadata": {
        "id": "XKFpvvO48Tb_"
      }
    },
    {
      "cell_type": "code",
      "source": [
        "plt.figure(figsize=(15,15))\n",
        "sns.heatmap(img/255, annot=True, cmap='binary')"
      ],
      "metadata": {
        "colab": {
          "base_uri": "https://localhost:8080/",
          "height": 885
        },
        "id": "H1ieV8_l8Ez6",
        "outputId": "742279a0-999a-445a-f26a-6755c2af826e"
      },
      "execution_count": 95,
      "outputs": [
        {
          "output_type": "execute_result",
          "data": {
            "text/plain": [
              "<matplotlib.axes._subplots.AxesSubplot at 0x7fd1190d1610>"
            ]
          },
          "metadata": {},
          "execution_count": 95
        },
        {
          "output_type": "display_data",
          "data": {
            "text/plain": [
              "<Figure size 1080x1080 with 2 Axes>"
            ],
            "image/png": "[encoded data removed]"
          },
          "metadata": {
            "needs_background": "light"
          }
        }
      ]
    },
    {
      "cell_type": "markdown",
      "source": [
        "### As we observed in above heatmap that, the black region is the area with maximum value, hence, max intensity."
      ],
      "metadata": {
        "id": "-UTVf58K-46Y"
      }
    },
    {
      "cell_type": "code",
      "source": [
        "x_valid, x_train = x_train_full[:5000] / 255, x_train_full[5000:] / 255\n",
        "y_valid, y_train = y_train_full[:5000], y_train_full[5000:]\n",
        "\n",
        "\n",
        "\n",
        "x_test = x_test / 255"
      ],
      "metadata": {
        "id": "n6O6RefTIc7q"
      },
      "execution_count": 96,
      "outputs": []
    },
    {
      "cell_type": "code",
      "source": [
        "x_test.shape"
      ],
      "metadata": {
        "colab": {
          "base_uri": "https://localhost:8080/"
        },
        "id": "Xt2jWTijIjrj",
        "outputId": "64ce1a24-350a-4092-dfa9-08b06732e87d"
      },
      "execution_count": 97,
      "outputs": [
        {
          "output_type": "execute_result",
          "data": {
            "text/plain": [
              "(10000, 28, 28)"
            ]
          },
          "metadata": {},
          "execution_count": 97
        }
      ]
    },
    {
      "cell_type": "code",
      "source": [
        "## Since, there are 10 class to be predicted. 0,1,2,3,4,5,6,7,8,9"
      ],
      "metadata": {
        "id": "iW-1lWiw-wnm"
      },
      "execution_count": 98,
      "outputs": []
    },
    {
      "cell_type": "code",
      "source": [
        "Classes = 10\n",
        "\n",
        "LAYERS = [\n",
        "          tf.keras.layers.Flatten(input_shape = (28,28), name = \"inputlayer\"),\n",
        "          tf.keras.layers.Dense(300, activation = \"relu\", name = \"Hiddenlayer1\"),\n",
        "          tf.keras.layers.Dense(100, activation = \"relu\", name = \"Hiddenlayer2\"),\n",
        "          tf.keras.layers.Dense(Classes, activation = \"softmax\", name = \"outputlayer\"),\n",
        "\n",
        "]\n",
        "\n",
        "## The first layer is always the flattening layer. Here, we will convert the two,thrid dimensional matrixes into the 1 dimensional\n",
        "# Dense layer is the individual layer. Hidden layer has 300 neurons. In order to decide number of hidden layers and neurons, we need to to hyperparamter tuning.\n",
        "## Second hidden layer has 100 neurons\n",
        "## Third layer is the output layer here, we have 10 neuron which are because we have 10 classes, so each neuron for each class."
      ],
      "metadata": {
        "id": "BdjDIxVZASPa"
      },
      "execution_count": 99,
      "outputs": []
    },
    {
      "cell_type": "code",
      "source": [
        "model = tf.keras.models.Sequential(LAYERS)    ## we are creating the model here using the layers. Sequential means all the layers(input,output and hidden) are used in one sequence to create model"
      ],
      "metadata": {
        "id": "VaZtFQtMBPPW"
      },
      "execution_count": 100,
      "outputs": []
    },
    {
      "cell_type": "code",
      "source": [
        "model.layers    ## Let's check the model layers again"
      ],
      "metadata": {
        "id": "cQO9pE8fC0LJ",
        "colab": {
          "base_uri": "https://localhost:8080/"
        },
        "outputId": "eec184f2-efe6-449a-ed3a-f8519de6ad68"
      },
      "execution_count": 101,
      "outputs": [
        {
          "output_type": "execute_result",
          "data": {
            "text/plain": [
              "[<keras.layers.core.flatten.Flatten at 0x7fd1183e2390>,\n",
              " <keras.layers.core.dense.Dense at 0x7fd1183e2e10>,\n",
              " <keras.layers.core.dense.Dense at 0x7fd11838aa50>,\n",
              " <keras.layers.core.dense.Dense at 0x7fd11838ab50>]"
            ]
          },
          "metadata": {},
          "execution_count": 101
        }
      ]
    },
    {
      "cell_type": "code",
      "source": [
        "## Let's see model summary in this way as well\n",
        "model.summary()"
      ],
      "metadata": {
        "colab": {
          "base_uri": "https://localhost:8080/"
        },
        "id": "-7ZOyxbhUH1g",
        "outputId": "754f7842-2cc9-4e15-fe2d-2d2ef10e5dfb"
      },
      "execution_count": 102,
      "outputs": [
        {
          "output_type": "stream",
          "name": "stdout",
          "text": [
            "Model: \"sequential_2\"\n",
            "_________________________________________________________________\n",
            " Layer (type)                Output Shape              Param #   \n",
            "=================================================================\n",
            " inputlayer (Flatten)        (None, 784)               0         \n",
            "                                                                 \n",
            " Hiddenlayer1 (Dense)        (None, 300)               235500    \n",
            "                                                                 \n",
            " Hiddenlayer2 (Dense)        (None, 100)               30100     \n",
            "                                                                 \n",
            " outputlayer (Dense)         (None, 10)                1010      \n",
            "                                                                 \n",
            "=================================================================\n",
            "Total params: 266,610\n",
            "Trainable params: 266,610\n",
            "Non-trainable params: 0\n",
            "_________________________________________________________________\n"
          ]
        }
      ]
    },
    {
      "cell_type": "markdown",
      "source": [
        "## Now let's try to understand the vlaues of params, what are those and why that number of paramters are given.\n",
        "### we have 60000 images to train and by default our batch size is 32. Means in one batch we will have only 32 images. So now divide batch size with total images to find out how many batches we will have.\n",
        "### total batches = total images / batch size => 60000/32 = 1875.0\n",
        "### Which means now we will have 1875 batches of 32 images each.\n",
        "### Now let's define steps per epoch. so each epoch is equal to one iteration. so there will be 1875 steps per epoch. Now what does it mean? It means in one epoch/iteration 1875 batches will be passed for training with 32 images each.\n",
        "\n",
        "## Now let's see how many weights and biases are required.\n",
        "\n",
        "### flatten layer has 784 datapoints, so 784 * 300 (weights because we have 300 neurons in first hidden layer) + 300 biases (each neuron to have one bias)=235500 parameters to train\n",
        "### Hidden layer 2 has 100 neurons so 100 biases and for weights we have 300 neurons from hidden layer 1 and 100 neurons in hidden layer 2. Since, we know each neuron holds one weights so total weight of hidden layer 2 = 300 * 100 + 100 biases = 30100 parameters to train\n",
        "\n",
        "### output layer we have 10 neurons so 100 * 10 + 10 = 1010 parameters to train\n",
        "\n",
        "## Total paramters to train = 235500 + 30100 + 1010 =  266610"
      ],
      "metadata": {
        "id": "-Z1DQDPIa1My"
      }
    },
    {
      "cell_type": "code",
      "source": [
        "## Let's retrieve the weights and biases of layers\n",
        "weights,biases = model.layers[1].get_weights()\n",
        "print(\"weights shape = \",weights.shape)\n",
        "print(\"bias shape=\",biases.shape)"
      ],
      "metadata": {
        "colab": {
          "base_uri": "https://localhost:8080/"
        },
        "id": "XgCfQi9hVs1a",
        "outputId": "d21bed9c-1271-4c22-b876-70d84f2c7082"
      },
      "execution_count": 103,
      "outputs": [
        {
          "output_type": "stream",
          "name": "stdout",
          "text": [
            "weights shape =  (784, 300)\n",
            "bias shape= (300,)\n"
          ]
        }
      ]
    },
    {
      "cell_type": "code",
      "source": [
        "for i in range(len(model.layers)):\n",
        "  print(f\"Layer {i} has weights {model.layers[i].get_weights()}\")"
      ],
      "metadata": {
        "colab": {
          "base_uri": "https://localhost:8080/"
        },
        "id": "HlKRrDTNb_VN",
        "outputId": "df0959ac-2b8a-4330-e03f-eea95345ad4c"
      },
      "execution_count": 104,
      "outputs": [
        {
          "output_type": "stream",
          "name": "stdout",
          "text": [
            "Layer 0 has weights []\n",
            "Layer 1 has weights [array([[-0.05560269, -0.07273838, -0.01505103, ..., -0.01700682,\n",
            "        -0.00958116,  0.0130325 ],\n",
            "       [ 0.0713328 ,  0.03702372,  0.03124115, ..., -0.02434217,\n",
            "         0.06958355, -0.05723915],\n",
            "       [ 0.01900434,  0.06510966,  0.00016503, ...,  0.04432156,\n",
            "         0.03012384, -0.07234976],\n",
            "       ...,\n",
            "       [ 0.02630795, -0.00168081, -0.06725898, ...,  0.05249092,\n",
            "         0.04818793,  0.04152451],\n",
            "       [ 0.05654795, -0.02611512,  0.02705564, ..., -0.0399984 ,\n",
            "         0.01621602, -0.06073945],\n",
            "       [ 0.04398488, -0.00511001,  0.01607725, ..., -0.02472538,\n",
            "         0.03424483,  0.06195204]], dtype=float32), array([0., 0., 0., 0., 0., 0., 0., 0., 0., 0., 0., 0., 0., 0., 0., 0., 0.,\n",
            "       0., 0., 0., 0., 0., 0., 0., 0., 0., 0., 0., 0., 0., 0., 0., 0., 0.,\n",
            "       0., 0., 0., 0., 0., 0., 0., 0., 0., 0., 0., 0., 0., 0., 0., 0., 0.,\n",
            "       0., 0., 0., 0., 0., 0., 0., 0., 0., 0., 0., 0., 0., 0., 0., 0., 0.,\n",
            "       0., 0., 0., 0., 0., 0., 0., 0., 0., 0., 0., 0., 0., 0., 0., 0., 0.,\n",
            "       0., 0., 0., 0., 0., 0., 0., 0., 0., 0., 0., 0., 0., 0., 0., 0., 0.,\n",
            "       0., 0., 0., 0., 0., 0., 0., 0., 0., 0., 0., 0., 0., 0., 0., 0., 0.,\n",
            "       0., 0., 0., 0., 0., 0., 0., 0., 0., 0., 0., 0., 0., 0., 0., 0., 0.,\n",
            "       0., 0., 0., 0., 0., 0., 0., 0., 0., 0., 0., 0., 0., 0., 0., 0., 0.,\n",
            "       0., 0., 0., 0., 0., 0., 0., 0., 0., 0., 0., 0., 0., 0., 0., 0., 0.,\n",
            "       0., 0., 0., 0., 0., 0., 0., 0., 0., 0., 0., 0., 0., 0., 0., 0., 0.,\n",
            "       0., 0., 0., 0., 0., 0., 0., 0., 0., 0., 0., 0., 0., 0., 0., 0., 0.,\n",
            "       0., 0., 0., 0., 0., 0., 0., 0., 0., 0., 0., 0., 0., 0., 0., 0., 0.,\n",
            "       0., 0., 0., 0., 0., 0., 0., 0., 0., 0., 0., 0., 0., 0., 0., 0., 0.,\n",
            "       0., 0., 0., 0., 0., 0., 0., 0., 0., 0., 0., 0., 0., 0., 0., 0., 0.,\n",
            "       0., 0., 0., 0., 0., 0., 0., 0., 0., 0., 0., 0., 0., 0., 0., 0., 0.,\n",
            "       0., 0., 0., 0., 0., 0., 0., 0., 0., 0., 0., 0., 0., 0., 0., 0., 0.,\n",
            "       0., 0., 0., 0., 0., 0., 0., 0., 0., 0., 0.], dtype=float32)]\n",
            "Layer 2 has weights [array([[ 1.11663722e-01, -1.08583927e-01,  1.03037558e-01, ...,\n",
            "        -3.64671275e-02, -5.56129366e-02, -5.87576479e-02],\n",
            "       [-1.14718214e-01, -5.76518402e-02, -1.00635253e-01, ...,\n",
            "        -9.59535539e-02,  8.45954940e-02,  9.73464921e-02],\n",
            "       [ 5.72760329e-02,  4.12601978e-03,  7.11659566e-02, ...,\n",
            "        -2.62516141e-02,  6.44932613e-02,  6.86972588e-03],\n",
            "       ...,\n",
            "       [ 9.65785235e-03,  1.95812955e-02, -1.14487827e-01, ...,\n",
            "         2.57589668e-03, -7.68724084e-03, -2.21164003e-02],\n",
            "       [-5.23113832e-02,  3.99168059e-02, -1.16394565e-01, ...,\n",
            "         5.72899729e-03,  1.19552888e-01, -5.80145344e-02],\n",
            "       [-9.31481719e-02, -1.13453902e-01, -1.13771483e-01, ...,\n",
            "        -1.30875260e-02, -1.08271837e-04,  1.11886196e-01]], dtype=float32), array([0., 0., 0., 0., 0., 0., 0., 0., 0., 0., 0., 0., 0., 0., 0., 0., 0.,\n",
            "       0., 0., 0., 0., 0., 0., 0., 0., 0., 0., 0., 0., 0., 0., 0., 0., 0.,\n",
            "       0., 0., 0., 0., 0., 0., 0., 0., 0., 0., 0., 0., 0., 0., 0., 0., 0.,\n",
            "       0., 0., 0., 0., 0., 0., 0., 0., 0., 0., 0., 0., 0., 0., 0., 0., 0.,\n",
            "       0., 0., 0., 0., 0., 0., 0., 0., 0., 0., 0., 0., 0., 0., 0., 0., 0.,\n",
            "       0., 0., 0., 0., 0., 0., 0., 0., 0., 0., 0., 0., 0., 0., 0.],\n",
            "      dtype=float32)]\n",
            "Layer 3 has weights [array([[ 5.93007803e-02, -1.39534265e-01, -4.41629738e-02,\n",
            "        -2.27224469e-01,  7.39596188e-02, -6.66510463e-02,\n",
            "        -2.96598226e-02, -5.12828231e-02,  8.12072456e-02,\n",
            "         4.62536216e-02],\n",
            "       [-1.23568624e-02, -1.09336816e-01, -2.03038856e-01,\n",
            "         5.40349782e-02, -7.19375014e-02,  1.85671896e-01,\n",
            "        -2.74941623e-02,  1.19885772e-01, -1.64784476e-01,\n",
            "        -3.32553089e-02],\n",
            "       [-1.75526261e-01,  1.85126394e-01,  1.75026655e-02,\n",
            "         1.66799068e-01,  1.39215410e-01,  1.48134083e-02,\n",
            "        -1.58756286e-01,  1.48232549e-01,  2.14549392e-01,\n",
            "        -1.63230091e-01],\n",
            "       [-1.01586863e-01,  3.32407355e-02, -1.47632509e-01,\n",
            "         9.02851820e-02, -1.79896057e-01,  1.30041778e-01,\n",
            "        -1.39692739e-01,  2.17332810e-01, -1.03848681e-01,\n",
            "         9.70093012e-02],\n",
            "       [-1.34511352e-01,  2.86448002e-03, -1.18912444e-01,\n",
            "        -1.99282795e-01,  1.64133668e-01, -3.00304592e-02,\n",
            "        -9.90094244e-02, -1.35686487e-01,  1.00258261e-01,\n",
            "         1.45108193e-01],\n",
            "       [ 1.94040000e-01,  1.01430058e-01, -8.43791664e-03,\n",
            "        -2.17092246e-01, -2.92619169e-02, -1.63188666e-01,\n",
            "        -1.92906857e-01,  5.21939695e-02,  1.25502974e-01,\n",
            "        -1.46459401e-01],\n",
            "       [ 3.43113840e-02, -1.44909799e-01,  1.85798347e-01,\n",
            "         2.27318525e-01,  2.08404094e-01, -1.95280775e-01,\n",
            "        -1.30211830e-01,  3.21063101e-02, -1.83219761e-01,\n",
            "         5.73251545e-02],\n",
            "       [-1.95471823e-01,  5.37064672e-02,  6.61766827e-02,\n",
            "        -4.91171032e-02,  1.91490054e-02,  8.91220272e-02,\n",
            "         1.15191907e-01, -1.24628760e-01, -1.19684644e-01,\n",
            "         1.74445003e-01],\n",
            "       [-1.34524435e-01,  2.02387363e-01,  1.38130963e-01,\n",
            "        -1.10667743e-01,  1.63198203e-01,  1.44842535e-01,\n",
            "         1.84543997e-01,  1.65203810e-01, -1.23637915e-03,\n",
            "        -4.28522527e-02],\n",
            "       [-6.09225929e-02, -1.62406117e-02,  1.91935807e-01,\n",
            "        -2.23839805e-01, -1.00470588e-01,  1.69775635e-01,\n",
            "         2.21681058e-01,  1.86252892e-01,  5.29649854e-02,\n",
            "        -2.13506848e-01],\n",
            "       [ 2.28526890e-02,  8.58367085e-02,  8.10141563e-02,\n",
            "         2.18047768e-01, -3.83087844e-02,  2.31956005e-01,\n",
            "         2.05935478e-01, -5.36065102e-02, -1.27317160e-02,\n",
            "         6.07667863e-02],\n",
            "       [-3.52058709e-02, -1.97037995e-01, -2.33083233e-01,\n",
            "        -3.36118490e-02, -2.83982903e-02, -1.04015842e-01,\n",
            "         2.02038407e-01,  1.48580134e-01,  2.31452793e-01,\n",
            "        -1.48655176e-01],\n",
            "       [ 7.76276886e-02,  2.21850097e-01,  7.16107488e-02,\n",
            "         1.81667000e-01, -4.33661044e-02,  7.20127225e-02,\n",
            "        -8.32819343e-02, -7.75364339e-02, -1.74027175e-01,\n",
            "        -1.16738260e-01],\n",
            "       [ 2.32572913e-01,  2.49617696e-02,  1.16892457e-01,\n",
            "         1.49631172e-01,  1.20240122e-01, -4.86848354e-02,\n",
            "        -6.94820583e-02,  1.10599428e-01,  1.54740840e-01,\n",
            "         1.61467135e-01],\n",
            "       [-8.75825733e-02,  1.44479215e-01,  6.26355112e-02,\n",
            "         1.17635757e-01,  1.87791854e-01,  1.93960100e-01,\n",
            "         3.25057209e-02, -1.54744908e-01,  3.57671380e-02,\n",
            "        -4.27787006e-03],\n",
            "       [ 4.74798679e-02, -3.27210873e-02,  1.18323147e-01,\n",
            "        -1.68784216e-01,  2.15427577e-01, -1.84027940e-01,\n",
            "         3.41732502e-02, -2.24896997e-01, -2.06563786e-01,\n",
            "        -1.01346701e-01],\n",
            "       [-9.09321159e-02,  5.78406751e-02, -1.95759192e-01,\n",
            "         8.72864127e-02, -1.13013387e-02, -2.32282132e-01,\n",
            "         3.86017859e-02,  8.63755345e-02, -1.29025668e-01,\n",
            "        -2.56490707e-03],\n",
            "       [-1.71003282e-01, -1.32586911e-01,  2.24325597e-01,\n",
            "        -5.80372363e-02, -4.65980768e-02,  1.31940156e-01,\n",
            "        -7.99520612e-02, -6.16363883e-02, -4.45866585e-03,\n",
            "        -1.91330150e-01],\n",
            "       [ 1.69424444e-01,  2.66503394e-02, -1.39693409e-01,\n",
            "        -7.94647336e-02,  4.41817939e-02, -4.89890426e-02,\n",
            "        -1.90908581e-01, -1.83179885e-01, -1.57241210e-01,\n",
            "        -1.21307850e-01],\n",
            "       [ 2.20436096e-01,  1.19589210e-01, -2.07147390e-01,\n",
            "         8.83105695e-02, -2.00964063e-02, -1.40594125e-01,\n",
            "         1.51332468e-02,  1.42422616e-01,  1.49724245e-01,\n",
            "        -3.26768756e-02],\n",
            "       [-2.18911126e-01,  8.30965042e-02,  9.74153578e-02,\n",
            "        -1.73990875e-02,  1.99801534e-01, -2.15818182e-01,\n",
            "         2.00383306e-01, -1.76705167e-01,  7.18783736e-02,\n",
            "        -1.36985332e-02],\n",
            "       [-1.95254102e-01,  1.51646614e-01,  1.90501422e-01,\n",
            "        -5.63418716e-02, -3.98103148e-02, -3.50476801e-03,\n",
            "         6.40057325e-02, -1.45468131e-01, -1.28657997e-01,\n",
            "         8.74488354e-02],\n",
            "       [-5.36747277e-02,  2.19074339e-01, -1.14617050e-02,\n",
            "         5.76427281e-02, -2.96346098e-02, -5.09354174e-02,\n",
            "         1.64742112e-01, -1.38977945e-01,  1.53481305e-01,\n",
            "        -2.44160295e-02],\n",
            "       [ 1.09881938e-01, -2.26094291e-01,  2.28171647e-01,\n",
            "         7.05588460e-02,  8.79975855e-02,  2.75098681e-02,\n",
            "         7.82307982e-02,  1.10557050e-01, -1.68388247e-01,\n",
            "        -8.40639472e-02],\n",
            "       [ 1.74027830e-01,  1.92806691e-01, -4.15738374e-02,\n",
            "        -1.23106398e-01,  2.10403562e-01, -1.35999307e-01,\n",
            "        -3.85920405e-02, -7.44742304e-02, -2.07919985e-01,\n",
            "        -2.18479812e-01],\n",
            "       [ 1.63753688e-01,  1.37470543e-01,  1.62458628e-01,\n",
            "         1.28709972e-01, -1.42405868e-01, -1.40539557e-01,\n",
            "        -2.18477577e-01,  1.19537711e-02,  2.30661213e-01,\n",
            "        -9.27545428e-02],\n",
            "       [ 1.94407731e-01, -7.34778494e-02,  1.13001943e-01,\n",
            "        -1.41850501e-01,  5.73525727e-02,  1.62093163e-01,\n",
            "         1.84472173e-01, -1.60100728e-01,  1.11870944e-01,\n",
            "         2.06238925e-01],\n",
            "       [ 5.39994240e-02,  9.86036062e-02, -1.21703088e-01,\n",
            "         1.44295961e-01, -2.36495137e-02,  1.87612772e-01,\n",
            "        -1.28708243e-01,  1.91705883e-01,  5.66296875e-02,\n",
            "        -1.31015494e-01],\n",
            "       [ 3.63637209e-02,  1.70538932e-01, -1.50737986e-01,\n",
            "        -1.18855201e-01, -2.22221911e-02, -3.71085107e-03,\n",
            "        -5.71060479e-02,  2.15565145e-01,  2.10753798e-01,\n",
            "         1.84380621e-01],\n",
            "       [-1.14675887e-01,  3.44698131e-02, -1.01334170e-01,\n",
            "         1.46136135e-02,  6.47927523e-02,  8.94566178e-02,\n",
            "        -1.46653235e-01, -2.01708376e-01, -1.43163204e-02,\n",
            "         8.52005184e-03],\n",
            "       [-2.03206748e-01,  6.69323504e-02, -1.30085438e-01,\n",
            "         2.10340858e-01,  1.11029178e-01, -6.20003790e-02,\n",
            "        -1.17858760e-01,  8.18756223e-03, -1.36735648e-01,\n",
            "         1.91368610e-01],\n",
            "       [-9.39619094e-02,  3.61112654e-02, -1.01728573e-01,\n",
            "         1.39161527e-01,  1.94284379e-01, -5.81891984e-02,\n",
            "         1.09883130e-01,  3.26262116e-02, -5.41640669e-02,\n",
            "         9.13127661e-02],\n",
            "       [ 1.95608586e-01, -4.84114885e-03,  1.18874311e-01,\n",
            "         1.98007047e-01,  1.07896030e-01, -6.73179626e-02,\n",
            "         1.99592888e-01,  1.23373002e-01, -8.15244764e-02,\n",
            "        -2.31263697e-01],\n",
            "       [-9.95076746e-02,  6.94240332e-02,  4.68803346e-02,\n",
            "        -1.98772565e-01,  6.29704893e-02, -4.34482247e-02,\n",
            "        -9.00649577e-02, -1.15164056e-01,  7.50394762e-02,\n",
            "         1.04755014e-02],\n",
            "       [-1.50921017e-01, -1.40696079e-01, -1.17459066e-01,\n",
            "        -4.89962250e-02,  1.18501902e-01, -9.81208384e-02,\n",
            "         1.60889268e-01, -1.76704824e-02,  1.48913324e-01,\n",
            "        -4.68489826e-02],\n",
            "       [ 3.89826000e-02, -2.27258444e-01,  8.04799199e-02,\n",
            "         1.53053820e-01, -2.80434191e-02, -1.68067753e-01,\n",
            "         2.07686305e-01, -3.05317640e-02, -1.92170560e-01,\n",
            "         2.29258835e-01],\n",
            "       [-2.08631501e-01,  9.21831727e-02,  1.74319506e-01,\n",
            "         5.65670431e-02,  8.98263752e-02, -1.16149485e-02,\n",
            "         1.24198347e-02,  2.02065200e-01,  1.96168751e-01,\n",
            "         4.16730642e-02],\n",
            "       [ 1.08701319e-01,  1.72040462e-01, -1.28422797e-01,\n",
            "        -2.22675830e-01, -1.05169371e-01,  2.05598146e-01,\n",
            "        -1.23749420e-01,  4.42445576e-02,  5.97532690e-02,\n",
            "         4.88897562e-02],\n",
            "       [-7.83248991e-02, -3.89270782e-02, -7.67447501e-02,\n",
            "         8.66543055e-02,  1.29729271e-01,  1.00520194e-01,\n",
            "         1.57115698e-01,  1.68046653e-02, -9.09163058e-03,\n",
            "        -1.19319484e-01],\n",
            "       [-9.78293419e-02, -5.04527092e-02,  6.69366419e-02,\n",
            "        -1.31029636e-01,  1.04413807e-01, -5.21774143e-02,\n",
            "         1.31685466e-01, -2.17186570e-01, -1.61393628e-01,\n",
            "         1.01810426e-01],\n",
            "       [ 2.04280913e-02, -2.23289832e-01, -1.84087127e-01,\n",
            "        -1.94711700e-01, -7.37552643e-02,  2.32038349e-01,\n",
            "        -1.80428281e-01, -2.04359919e-01,  3.90104353e-02,\n",
            "        -1.22774638e-01],\n",
            "       [-6.75504953e-02, -1.61926895e-01,  1.88302398e-01,\n",
            "         2.11449385e-01,  2.21031904e-01, -2.00023755e-01,\n",
            "        -7.66054839e-02, -2.05272138e-02,  1.39470458e-01,\n",
            "         7.20330477e-02],\n",
            "       [ 1.76608562e-01, -8.90308321e-02, -1.87350899e-01,\n",
            "        -1.28097951e-01,  7.52734542e-02,  1.51765496e-01,\n",
            "        -1.90072060e-01, -2.11536139e-01, -2.67723501e-02,\n",
            "         4.63614166e-02],\n",
            "       [ 6.65429235e-03,  1.70382738e-01, -2.26093397e-01,\n",
            "         1.82921857e-01,  1.02722347e-01,  2.30583578e-01,\n",
            "         7.20660090e-02,  2.70244181e-02,  1.97210401e-01,\n",
            "        -2.29598224e-01],\n",
            "       [-7.82790780e-03, -1.67796969e-01,  2.95290947e-02,\n",
            "        -3.71585488e-02,  1.71155065e-01, -8.73066187e-02,\n",
            "        -9.02983248e-02, -2.07203180e-02, -1.12454891e-02,\n",
            "        -6.21777326e-02],\n",
            "       [ 1.97104037e-01, -1.32237405e-01,  1.70462132e-02,\n",
            "         1.75916880e-01,  6.30571842e-02, -1.56949162e-02,\n",
            "         2.02349275e-01,  5.36558628e-02,  1.34178311e-01,\n",
            "         1.70418918e-02],\n",
            "       [ 2.07702816e-02, -1.93194792e-01,  1.71524972e-01,\n",
            "         2.06542641e-01, -7.14101344e-02,  1.20169073e-01,\n",
            "        -1.33049801e-01,  2.13196099e-01,  1.47865951e-01,\n",
            "        -9.95155871e-02],\n",
            "       [ 1.18640661e-02, -4.07821536e-02, -6.61129951e-02,\n",
            "        -9.67905819e-02, -4.02798951e-02, -1.62869692e-04,\n",
            "        -7.92146623e-02, -1.71182245e-01,  1.15541965e-02,\n",
            "        -2.26031929e-01],\n",
            "       [ 1.11697823e-01,  2.22165555e-01, -8.93984437e-02,\n",
            "         6.49482310e-02,  5.15536666e-02, -1.68622911e-01,\n",
            "         8.19486678e-02,  1.39688730e-01, -9.45936888e-02,\n",
            "        -1.90970212e-01],\n",
            "       [-2.97808349e-02,  1.61659300e-01,  2.12531805e-01,\n",
            "         1.54880285e-01, -8.22155625e-02,  2.21112698e-01,\n",
            "        -5.48055768e-02, -8.33442509e-02, -1.81226656e-01,\n",
            "        -1.85116917e-01],\n",
            "       [-1.06051162e-01,  3.28493416e-02,  9.06599462e-02,\n",
            "         1.84833497e-01, -7.24817365e-02,  1.80800855e-02,\n",
            "         5.89160621e-02,  1.46973729e-01, -2.18751535e-01,\n",
            "         1.53307676e-01],\n",
            "       [ 2.10691601e-01, -2.26964951e-02, -5.43057770e-02,\n",
            "         1.67335451e-01, -1.87049389e-01, -2.03831106e-01,\n",
            "        -9.73273069e-02, -4.69811261e-03,  1.73177510e-01,\n",
            "         1.77630186e-02],\n",
            "       [ 1.46339446e-01,  1.00445658e-01,  7.98225403e-02,\n",
            "         1.76083863e-01, -1.99373886e-01,  2.29698569e-01,\n",
            "        -1.44040212e-01, -1.04166806e-01,  1.83819681e-01,\n",
            "         3.99377346e-02],\n",
            "       [-4.83802557e-02,  9.46207941e-02,  8.21855366e-02,\n",
            "        -8.92730504e-02, -1.71150669e-01,  1.27847224e-01,\n",
            "         2.21088320e-01, -6.43994659e-02,  1.76496655e-01,\n",
            "        -6.49620593e-03],\n",
            "       [-3.34924459e-03, -1.37650907e-01,  1.46851748e-01,\n",
            "        -9.60766226e-02, -1.40977561e-01, -8.17121863e-02,\n",
            "         6.98125362e-03, -1.72609270e-01, -1.24954611e-01,\n",
            "        -1.80106878e-01],\n",
            "       [-1.06995031e-01,  1.55475289e-01, -1.66945741e-01,\n",
            "         1.78338796e-01, -1.10480987e-01, -1.85835004e-01,\n",
            "         1.56483084e-01, -1.87363937e-01, -3.69059145e-02,\n",
            "        -1.72399744e-01],\n",
            "       [ 1.55768245e-01, -1.16279714e-01, -1.92224860e-01,\n",
            "        -2.24813581e-01,  4.50566709e-02, -1.66588873e-02,\n",
            "        -1.90634891e-01, -8.42701346e-02, -9.70795155e-02,\n",
            "         1.89593017e-01],\n",
            "       [ 1.27486348e-01, -5.56735098e-02,  6.66862428e-02,\n",
            "        -3.19844037e-02, -9.13452208e-02,  1.35936737e-01,\n",
            "        -7.46239573e-02,  1.74194783e-01, -6.92658424e-02,\n",
            "        -2.17855766e-01],\n",
            "       [-7.37634450e-02, -7.57902265e-02, -1.56398356e-01,\n",
            "         9.60024595e-02, -9.93313193e-02, -1.13892987e-01,\n",
            "         9.98166203e-03,  4.07217741e-02,  1.37785554e-01,\n",
            "         3.19561660e-02],\n",
            "       [-2.24230319e-01,  1.47840559e-01, -6.82676882e-02,\n",
            "         6.96936548e-02,  2.02828050e-01,  8.14869404e-02,\n",
            "        -5.72815686e-02,  5.54135740e-02, -2.05166101e-01,\n",
            "        -1.64537519e-01],\n",
            "       [-2.25659311e-02,  2.16193199e-02,  1.30724728e-01,\n",
            "         1.42774165e-01, -1.16613582e-01,  1.09361887e-01,\n",
            "        -1.28501981e-01,  1.69306189e-01, -6.54175133e-02,\n",
            "         1.62414074e-01],\n",
            "       [ 1.72719747e-01, -2.18915686e-01, -5.16855270e-02,\n",
            "        -8.30780268e-02,  1.61688179e-01, -1.45640701e-01,\n",
            "        -2.21497685e-01, -6.69039637e-02,  4.56697941e-02,\n",
            "         1.26597017e-01],\n",
            "       [-2.16690451e-01, -1.37581810e-01,  9.96832550e-02,\n",
            "         1.42163604e-01,  9.01956558e-02,  5.89262545e-02,\n",
            "         4.48409617e-02,  1.00094974e-02,  1.77663594e-01,\n",
            "        -2.03097492e-01],\n",
            "       [-1.55465335e-01,  3.53235304e-02, -5.91401309e-02,\n",
            "        -1.73337653e-01, -6.63627833e-02, -9.53518599e-02,\n",
            "        -2.09008083e-01, -2.16360077e-01,  2.17181563e-01,\n",
            "         1.36829704e-01],\n",
            "       [-1.02318525e-01, -4.65729833e-03, -2.13608131e-01,\n",
            "         6.21408224e-02,  1.32323265e-01, -4.11199033e-03,\n",
            "         1.88668519e-01,  1.72488213e-01, -6.63836002e-02,\n",
            "         7.62821436e-02],\n",
            "       [-2.20454141e-01, -1.85112014e-01,  5.97888529e-02,\n",
            "        -8.95384252e-02,  2.05060363e-01, -3.79809290e-02,\n",
            "         1.15645438e-01, -2.09110975e-02, -1.16710804e-01,\n",
            "        -2.25634739e-01],\n",
            "       [ 1.73769891e-02,  2.01093972e-01,  1.58960134e-01,\n",
            "         2.06246942e-01,  1.60469860e-01,  6.26727939e-02,\n",
            "        -1.72134191e-01,  1.31137490e-01, -1.36053771e-01,\n",
            "        -9.55396146e-02],\n",
            "       [-2.04735175e-01,  9.91911292e-02,  1.28409564e-02,\n",
            "        -9.53671187e-02,  1.80871785e-01, -5.52655756e-02,\n",
            "        -4.01690751e-02, -6.72450215e-02,  3.43362689e-02,\n",
            "        -5.10753542e-02],\n",
            "       [ 1.93923384e-01,  1.15525782e-01,  1.79174095e-01,\n",
            "        -2.67876089e-02,  1.89862788e-01, -1.44543469e-01,\n",
            "        -1.04565650e-01, -1.11418955e-01,  1.80003256e-01,\n",
            "        -1.16686642e-01],\n",
            "       [-1.44324362e-01,  1.01213843e-01,  2.11613417e-01,\n",
            "        -5.24926335e-02, -1.59019992e-01, -2.07028180e-01,\n",
            "        -1.63145900e-01,  1.37914240e-01,  1.42527103e-01,\n",
            "         1.23252779e-01],\n",
            "       [-5.64024448e-02,  8.67250562e-03, -9.67667550e-02,\n",
            "        -1.21151879e-01,  7.46318698e-03, -1.22058228e-01,\n",
            "         1.13060594e-01,  1.83657020e-01,  4.01281118e-02,\n",
            "         1.73341632e-02],\n",
            "       [-1.27492785e-01, -7.91856945e-02,  4.95983064e-02,\n",
            "         1.55772477e-01, -1.73084185e-01, -1.95468366e-01,\n",
            "        -1.85529530e-01, -5.60255945e-02,  1.22605801e-01,\n",
            "         1.70351863e-02],\n",
            "       [ 9.09497738e-02,  1.41966641e-01,  2.08555728e-01,\n",
            "        -1.27423197e-01, -1.10086419e-01, -1.00203931e-01,\n",
            "        -1.42705217e-01, -1.74105525e-01, -1.50904655e-01,\n",
            "         1.82387650e-01],\n",
            "       [ 1.01226866e-01, -6.54665083e-02,  1.96262896e-01,\n",
            "         4.18531895e-03, -2.25409225e-01, -2.18135357e-01,\n",
            "        -2.20155790e-01, -1.59129500e-03, -2.25788251e-01,\n",
            "        -7.51320720e-02],\n",
            "       [ 1.29119337e-01, -6.60318136e-03, -1.10469401e-01,\n",
            "         2.18389422e-01, -2.16391936e-01, -1.02511689e-01,\n",
            "        -8.70740265e-02, -1.70349225e-01,  1.61636621e-01,\n",
            "        -4.35081422e-02],\n",
            "       [ 2.13631898e-01,  2.11542249e-01,  1.81509078e-01,\n",
            "        -1.80261508e-01, -9.87188667e-02,  1.48734629e-01,\n",
            "        -2.55978107e-03,  1.90033972e-01,  1.83228493e-01,\n",
            "        -6.70800805e-02],\n",
            "       [-1.67716444e-02, -1.73165768e-01,  2.47350335e-02,\n",
            "        -7.03264773e-03, -7.14523345e-02, -2.06020772e-01,\n",
            "         2.20502615e-02,  1.79609507e-01,  1.98107779e-01,\n",
            "         2.48621106e-02],\n",
            "       [-2.09838539e-01, -4.51324582e-02,  4.20056581e-02,\n",
            "         1.75639570e-01, -7.92678893e-02, -1.07549727e-02,\n",
            "        -3.73881757e-02,  1.67749017e-01,  1.51056379e-01,\n",
            "         9.83803868e-02],\n",
            "       [ 1.55756205e-01, -1.43478483e-01, -1.16421282e-03,\n",
            "         1.78076088e-01,  2.03489989e-01,  4.65807319e-03,\n",
            "        -2.08925903e-01,  6.28080666e-02,  1.67020142e-01,\n",
            "        -4.93581593e-02],\n",
            "       [-9.59465504e-02,  4.67474759e-02,  1.84662998e-01,\n",
            "        -4.97319549e-02, -6.07056916e-03, -9.99316424e-02,\n",
            "         1.64105028e-01, -4.47894037e-02,  2.24426150e-01,\n",
            "         1.30621433e-01],\n",
            "       [ 2.64257193e-02, -8.40173364e-02, -3.46775055e-02,\n",
            "         1.84475452e-01, -3.56660932e-02, -1.80579394e-01,\n",
            "        -1.22427568e-01,  1.99076921e-01, -2.85584331e-02,\n",
            "        -2.78764218e-02],\n",
            "       [ 2.27268338e-02,  6.43545389e-02, -1.98436186e-01,\n",
            "        -1.57137960e-02,  1.62861526e-01,  1.09523237e-01,\n",
            "         8.74210894e-03, -5.43354601e-02, -9.13032889e-03,\n",
            "         2.11654514e-01],\n",
            "       [ 2.15634644e-01,  2.26123512e-01,  1.60944819e-01,\n",
            "         1.05666280e-01, -3.07078660e-03,  2.49612629e-02,\n",
            "         1.87713176e-01,  9.91990864e-02, -2.05676213e-01,\n",
            "        -4.91856486e-02],\n",
            "       [-1.41081184e-01,  8.62416923e-02, -1.58084527e-01,\n",
            "         2.17781216e-01, -2.33240426e-02, -4.91671711e-02,\n",
            "        -9.00211930e-02,  9.38979983e-02,  1.95798844e-01,\n",
            "        -1.24472238e-01],\n",
            "       [ 1.88097328e-01,  1.49818212e-01,  1.77287787e-01,\n",
            "         3.20129097e-02,  3.57235968e-02,  1.14328772e-01,\n",
            "         1.79071784e-01,  9.51981843e-02, -1.70426294e-01,\n",
            "        -1.09098718e-01],\n",
            "       [ 7.31786191e-02, -1.71988308e-01, -2.09011376e-01,\n",
            "         2.48162746e-02,  2.02433765e-03,  6.61909878e-02,\n",
            "         1.36846960e-01, -1.15014941e-01,  7.05452561e-02,\n",
            "        -2.13477343e-01],\n",
            "       [-1.08398572e-01, -1.43692583e-01,  2.19187766e-01,\n",
            "        -1.97215796e-01, -1.58924162e-01, -1.53331578e-01,\n",
            "         3.87896597e-03, -1.35349333e-01,  1.16812438e-01,\n",
            "        -2.31952652e-01],\n",
            "       [ 1.14838153e-01, -4.70423102e-02, -9.95019376e-02,\n",
            "        -2.15571672e-01, -1.15760192e-01,  1.59519732e-01,\n",
            "        -1.31031483e-01,  7.77344406e-02, -1.17807642e-01,\n",
            "        -2.29377002e-01],\n",
            "       [ 1.89404964e-01, -1.32822394e-02,  1.01261944e-01,\n",
            "         3.04270387e-02,  1.05208188e-01, -1.55954510e-01,\n",
            "         2.05531120e-02,  1.67350322e-01, -1.05728090e-01,\n",
            "         1.84221148e-01],\n",
            "       [ 6.31677806e-02,  2.13708758e-01,  1.96819156e-01,\n",
            "         1.07052952e-01,  1.66015178e-01, -1.58392280e-01,\n",
            "         1.24640226e-01, -1.45284936e-01,  5.51432967e-02,\n",
            "         1.76001221e-01],\n",
            "       [ 1.49096310e-01, -8.93639028e-03,  1.53645456e-01,\n",
            "        -1.25860795e-01, -1.95922285e-01, -1.99875191e-01,\n",
            "        -5.26829064e-03, -6.78617507e-02,  1.32161826e-01,\n",
            "         1.47890002e-01],\n",
            "       [-2.42201984e-03, -1.19835161e-01,  2.21414775e-01,\n",
            "        -2.27572769e-01, -2.28549942e-01, -2.21715972e-01,\n",
            "        -2.43660808e-03, -1.60403311e-01, -9.95507687e-02,\n",
            "         6.26952350e-02],\n",
            "       [-3.77723873e-02,  1.65291697e-01, -2.03284472e-01,\n",
            "        -1.96204603e-01, -1.03297099e-01, -9.56352204e-02,\n",
            "         1.37780756e-01, -9.37496424e-02, -1.27007753e-01,\n",
            "         1.06140852e-01],\n",
            "       [ 6.98819757e-04, -1.31043449e-01, -1.46521315e-01,\n",
            "         1.24384880e-01,  1.40969425e-01,  1.10278398e-01,\n",
            "         2.19118297e-02,  2.27317125e-01, -8.61284882e-02,\n",
            "        -2.25256875e-01],\n",
            "       [ 8.62268806e-02,  8.74354243e-02, -2.15514824e-01,\n",
            "         8.96990299e-03, -1.49676502e-01,  1.99200839e-01,\n",
            "         2.72411406e-02,  1.17369860e-01, -1.24391660e-01,\n",
            "         1.06348515e-01],\n",
            "       [-7.70701468e-02, -1.29700541e-01, -1.79522932e-01,\n",
            "        -7.03380108e-02,  1.98034942e-01,  1.02966577e-01,\n",
            "         4.49211001e-02, -1.25497401e-01, -2.29675174e-01,\n",
            "         5.57480752e-02],\n",
            "       [-3.91638279e-03,  1.26154423e-02,  8.51874053e-02,\n",
            "         2.55522132e-03, -8.53469819e-02,  2.02702492e-01,\n",
            "        -2.25257650e-01,  3.26057076e-02,  1.07007056e-01,\n",
            "        -5.80158532e-02],\n",
            "       [ 2.83356309e-02,  1.05819583e-01, -1.23443224e-01,\n",
            "        -9.36862826e-02, -1.87891468e-01, -1.76477209e-01,\n",
            "         1.41547292e-01, -2.12416813e-01, -1.61000401e-01,\n",
            "         8.62778723e-02],\n",
            "       [-3.33711356e-02,  1.90836340e-01,  1.66300207e-01,\n",
            "         3.09250057e-02,  2.08054900e-01, -2.93443352e-02,\n",
            "        -6.71179444e-02, -1.39721483e-02, -1.50566876e-01,\n",
            "        -1.64623946e-01],\n",
            "       [ 1.57955885e-02, -1.84323445e-01, -3.82767618e-02,\n",
            "         2.10631967e-01, -1.26781493e-01,  2.75052488e-02,\n",
            "        -1.11687958e-01,  2.14603782e-01,  8.36007595e-02,\n",
            "         2.21472591e-01]], dtype=float32), array([0., 0., 0., 0., 0., 0., 0., 0., 0., 0.], dtype=float32)]\n"
          ]
        }
      ]
    },
    {
      "cell_type": "code",
      "source": [
        "\n",
        "## Now let's create other paramters for our models, like loss, optimiser and metrics\n",
        "LOSS_FUNCTION = \"sparse_categorical_crossentropy\"\n",
        "OPTIMIZER = \"SGD\"\n",
        "METRICS = [\"accuracy\"]\n",
        "\n",
        "model.compile(loss=LOSS_FUNCTION, optimizer=OPTIMIZER, metrics=METRICS)"
      ],
      "metadata": {
        "id": "GWvVDh9v50YE"
      },
      "execution_count": 105,
      "outputs": []
    },
    {
      "cell_type": "code",
      "source": [
        "EPOCHS = 30\n",
        "VALIDATION = (x_valid,y_valid)\n",
        "\n",
        "history = model.fit(x_train,y_train, epochs=EPOCHS, validation_data = VALIDATION)"
      ],
      "metadata": {
        "colab": {
          "base_uri": "https://localhost:8080/"
        },
        "id": "8_GwX8ylD8bK",
        "outputId": "6994561b-a351-4717-8565-9857c5c492b3"
      },
      "execution_count": 106,
      "outputs": [
        {
          "output_type": "stream",
          "name": "stdout",
          "text": [
            "Epoch 1/30\n",
            "1719/1719 [==============================] - 5s 3ms/step - loss: 0.5891 - accuracy: 0.8503 - val_loss: 0.2999 - val_accuracy: 0.9184\n",
            "Epoch 2/30\n",
            "1719/1719 [==============================] - 5s 3ms/step - loss: 0.2863 - accuracy: 0.9186 - val_loss: 0.2399 - val_accuracy: 0.9336\n",
            "Epoch 3/30\n",
            "1719/1719 [==============================] - 5s 3ms/step - loss: 0.2356 - accuracy: 0.9327 - val_loss: 0.2004 - val_accuracy: 0.9442\n",
            "Epoch 4/30\n",
            "1719/1719 [==============================] - 5s 3ms/step - loss: 0.2023 - accuracy: 0.9421 - val_loss: 0.1766 - val_accuracy: 0.9502\n",
            "Epoch 5/30\n",
            "1719/1719 [==============================] - 5s 3ms/step - loss: 0.1759 - accuracy: 0.9496 - val_loss: 0.1601 - val_accuracy: 0.9568\n",
            "Epoch 6/30\n",
            "1719/1719 [==============================] - 5s 3ms/step - loss: 0.1550 - accuracy: 0.9566 - val_loss: 0.1430 - val_accuracy: 0.9616\n",
            "Epoch 7/30\n",
            "1719/1719 [==============================] - 5s 3ms/step - loss: 0.1380 - accuracy: 0.9614 - val_loss: 0.1297 - val_accuracy: 0.9662\n",
            "Epoch 8/30\n",
            "1719/1719 [==============================] - 5s 3ms/step - loss: 0.1247 - accuracy: 0.9647 - val_loss: 0.1213 - val_accuracy: 0.9674\n",
            "Epoch 9/30\n",
            "1719/1719 [==============================] - 5s 3ms/step - loss: 0.1131 - accuracy: 0.9683 - val_loss: 0.1148 - val_accuracy: 0.9680\n",
            "Epoch 10/30\n",
            "1719/1719 [==============================] - 5s 3ms/step - loss: 0.1033 - accuracy: 0.9717 - val_loss: 0.1057 - val_accuracy: 0.9706\n",
            "Epoch 11/30\n",
            "1719/1719 [==============================] - 5s 3ms/step - loss: 0.0945 - accuracy: 0.9740 - val_loss: 0.1025 - val_accuracy: 0.9708\n",
            "Epoch 12/30\n",
            "1719/1719 [==============================] - 5s 3ms/step - loss: 0.0875 - accuracy: 0.9756 - val_loss: 0.0988 - val_accuracy: 0.9722\n",
            "Epoch 13/30\n",
            "1719/1719 [==============================] - 5s 3ms/step - loss: 0.0808 - accuracy: 0.9775 - val_loss: 0.0943 - val_accuracy: 0.9720\n",
            "Epoch 14/30\n",
            "1719/1719 [==============================] - 5s 3ms/step - loss: 0.0749 - accuracy: 0.9798 - val_loss: 0.0889 - val_accuracy: 0.9756\n",
            "Epoch 15/30\n",
            "1719/1719 [==============================] - 5s 3ms/step - loss: 0.0696 - accuracy: 0.9811 - val_loss: 0.0856 - val_accuracy: 0.9764\n",
            "Epoch 16/30\n",
            "1719/1719 [==============================] - 5s 3ms/step - loss: 0.0653 - accuracy: 0.9820 - val_loss: 0.0816 - val_accuracy: 0.9774\n",
            "Epoch 17/30\n",
            "1719/1719 [==============================] - 5s 3ms/step - loss: 0.0610 - accuracy: 0.9835 - val_loss: 0.0813 - val_accuracy: 0.9768\n",
            "Epoch 18/30\n",
            "1719/1719 [==============================] - 5s 3ms/step - loss: 0.0572 - accuracy: 0.9847 - val_loss: 0.0779 - val_accuracy: 0.9778\n",
            "Epoch 19/30\n",
            "1719/1719 [==============================] - 5s 3ms/step - loss: 0.0535 - accuracy: 0.9857 - val_loss: 0.0788 - val_accuracy: 0.9776\n",
            "Epoch 20/30\n",
            "1719/1719 [==============================] - 5s 3ms/step - loss: 0.0504 - accuracy: 0.9867 - val_loss: 0.0759 - val_accuracy: 0.9796\n",
            "Epoch 21/30\n",
            "1719/1719 [==============================] - 5s 3ms/step - loss: 0.0472 - accuracy: 0.9878 - val_loss: 0.0750 - val_accuracy: 0.9790\n",
            "Epoch 22/30\n",
            "1719/1719 [==============================] - 5s 3ms/step - loss: 0.0443 - accuracy: 0.9887 - val_loss: 0.0764 - val_accuracy: 0.9782\n",
            "Epoch 23/30\n",
            "1719/1719 [==============================] - 5s 3ms/step - loss: 0.0418 - accuracy: 0.9894 - val_loss: 0.0737 - val_accuracy: 0.9798\n",
            "Epoch 24/30\n",
            "1719/1719 [==============================] - 5s 3ms/step - loss: 0.0393 - accuracy: 0.9903 - val_loss: 0.0705 - val_accuracy: 0.9812\n",
            "Epoch 25/30\n",
            "1719/1719 [==============================] - 5s 3ms/step - loss: 0.0367 - accuracy: 0.9907 - val_loss: 0.0718 - val_accuracy: 0.9796\n",
            "Epoch 26/30\n",
            "1719/1719 [==============================] - 5s 3ms/step - loss: 0.0349 - accuracy: 0.9916 - val_loss: 0.0704 - val_accuracy: 0.9802\n",
            "Epoch 27/30\n",
            "1719/1719 [==============================] - 5s 3ms/step - loss: 0.0327 - accuracy: 0.9922 - val_loss: 0.0680 - val_accuracy: 0.9814\n",
            "Epoch 28/30\n",
            "1719/1719 [==============================] - 5s 3ms/step - loss: 0.0310 - accuracy: 0.9928 - val_loss: 0.0690 - val_accuracy: 0.9810\n",
            "Epoch 29/30\n",
            "1719/1719 [==============================] - 5s 3ms/step - loss: 0.0293 - accuracy: 0.9931 - val_loss: 0.0746 - val_accuracy: 0.9788\n",
            "Epoch 30/30\n",
            "1719/1719 [==============================] - 5s 3ms/step - loss: 0.0276 - accuracy: 0.9939 - val_loss: 0.0692 - val_accuracy: 0.9818\n"
          ]
        }
      ]
    },
    {
      "cell_type": "code",
      "source": [
        "## Let's see what history stores\n",
        "type(history.history)"
      ],
      "metadata": {
        "colab": {
          "base_uri": "https://localhost:8080/"
        },
        "id": "Jj9RSKlpEbkL",
        "outputId": "26c8e406-b082-45ff-e8a9-323a5523bee7"
      },
      "execution_count": 107,
      "outputs": [
        {
          "output_type": "execute_result",
          "data": {
            "text/plain": [
              "dict"
            ]
          },
          "metadata": {},
          "execution_count": 107
        }
      ]
    },
    {
      "cell_type": "code",
      "source": [
        "history.history.keys()"
      ],
      "metadata": {
        "colab": {
          "base_uri": "https://localhost:8080/"
        },
        "id": "ip0YBK6qPClZ",
        "outputId": "de68b9bd-5968-44ed-98f1-12b794752255"
      },
      "execution_count": 108,
      "outputs": [
        {
          "output_type": "execute_result",
          "data": {
            "text/plain": [
              "dict_keys(['loss', 'accuracy', 'val_loss', 'val_accuracy'])"
            ]
          },
          "metadata": {},
          "execution_count": 108
        }
      ]
    },
    {
      "cell_type": "code",
      "source": [
        "## Let's convert the history dictionary into dataframe\n",
        "pd.DataFrame(history.history)"
      ],
      "metadata": {
        "colab": {
          "base_uri": "https://localhost:8080/",
          "height": 990
        },
        "id": "UjDc2c6kPOYM",
        "outputId": "aef46e37-3c08-4133-d853-1917da5ca3aa"
      },
      "execution_count": 109,
      "outputs": [
        {
          "output_type": "execute_result",
          "data": {
            "text/plain": [
              "        loss  accuracy  val_loss  val_accuracy\n",
              "0   0.589087  0.850345  0.299882        0.9184\n",
              "1   0.286253  0.918618  0.239878        0.9336\n",
              "2   0.235559  0.932745  0.200380        0.9442\n",
              "3   0.202261  0.942091  0.176622        0.9502\n",
              "4   0.175865  0.949564  0.160124        0.9568\n",
              "5   0.155027  0.956636  0.143009        0.9616\n",
              "6   0.137958  0.961400  0.129733        0.9662\n",
              "7   0.124727  0.964655  0.121336        0.9674\n",
              "8   0.113060  0.968309  0.114765        0.9680\n",
              "9   0.103284  0.971673  0.105697        0.9706\n",
              "10  0.094520  0.973982  0.102502        0.9708\n",
              "11  0.087525  0.975636  0.098848        0.9722\n",
              "12  0.080780  0.977527  0.094346        0.9720\n",
              "13  0.074940  0.979800  0.088884        0.9756\n",
              "14  0.069567  0.981127  0.085622        0.9764\n",
              "15  0.065302  0.982018  0.081581        0.9774\n",
              "16  0.060952  0.983527  0.081332        0.9768\n",
              "17  0.057155  0.984709  0.077876        0.9778\n",
              "18  0.053485  0.985709  0.078817        0.9776\n",
              "19  0.050361  0.986691  0.075866        0.9796\n",
              "20  0.047232  0.987800  0.074956        0.9790\n",
              "21  0.044325  0.988745  0.076448        0.9782\n",
              "22  0.041802  0.989382  0.073739        0.9798\n",
              "23  0.039326  0.990345  0.070454        0.9812\n",
              "24  0.036728  0.990691  0.071814        0.9796\n",
              "25  0.034908  0.991564  0.070383        0.9802\n",
              "26  0.032734  0.992236  0.067967        0.9814\n",
              "27  0.031031  0.992818  0.069047        0.9810\n",
              "28  0.029273  0.993145  0.074579        0.9788\n",
              "29  0.027564  0.993945  0.069212        0.9818"
            ],
            "text/html": [
              "\n",
              "  <div id=\"df-49f1a23a-5ba5-424f-bd35-cc0782637c42\">\n",
              "    <div class=\"colab-df-container\">\n",
              "      <div>\n",
              "<style scoped>\n",
              "    .dataframe tbody tr th:only-of-type {\n",
              "        vertical-align: middle;\n",
              "    }\n",
              "\n",
              "    .dataframe tbody tr th {\n",
              "        vertical-align: top;\n",
              "    }\n",
              "\n",
              "    .dataframe thead th {\n",
              "        text-align: right;\n",
              "    }\n",
              "</style>\n",
              "<table border=\"1\" class=\"dataframe\">\n",
              "  <thead>\n",
              "    <tr style=\"text-align: right;\">\n",
              "      <th></th>\n",
              "      <th>loss</th>\n",
              "      <th>accuracy</th>\n",
              "      <th>val_loss</th>\n",
              "      <th>val_accuracy</th>\n",
              "    </tr>\n",
              "  </thead>\n",
              "  <tbody>\n",
              "    <tr>\n",
              "      <th>0</th>\n",
              "      <td>0.589087</td>\n",
              "      <td>0.850345</td>\n",
              "      <td>0.299882</td>\n",
              "      <td>0.9184</td>\n",
              "    </tr>\n",
              "    <tr>\n",
              "      <th>1</th>\n",
              "      <td>0.286253</td>\n",
              "      <td>0.918618</td>\n",
              "      <td>0.239878</td>\n",
              "      <td>0.9336</td>\n",
              "    </tr>\n",
              "    <tr>\n",
              "      <th>2</th>\n",
              "      <td>0.235559</td>\n",
              "      <td>0.932745</td>\n",
              "      <td>0.200380</td>\n",
              "      <td>0.9442</td>\n",
              "    </tr>\n",
              "    <tr>\n",
              "      <th>3</th>\n",
              "      <td>0.202261</td>\n",
              "      <td>0.942091</td>\n",
              "      <td>0.176622</td>\n",
              "      <td>0.9502</td>\n",
              "    </tr>\n",
              "    <tr>\n",
              "      <th>4</th>\n",
              "      <td>0.175865</td>\n",
              "      <td>0.949564</td>\n",
              "      <td>0.160124</td>\n",
              "      <td>0.9568</td>\n",
              "    </tr>\n",
              "    <tr>\n",
              "      <th>5</th>\n",
              "      <td>0.155027</td>\n",
              "      <td>0.956636</td>\n",
              "      <td>0.143009</td>\n",
              "      <td>0.9616</td>\n",
              "    </tr>\n",
              "    <tr>\n",
              "      <th>6</th>\n",
              "      <td>0.137958</td>\n",
              "      <td>0.961400</td>\n",
              "      <td>0.129733</td>\n",
              "      <td>0.9662</td>\n",
              "    </tr>\n",
              "    <tr>\n",
              "      <th>7</th>\n",
              "      <td>0.124727</td>\n",
              "      <td>0.964655</td>\n",
              "      <td>0.121336</td>\n",
              "      <td>0.9674</td>\n",
              "    </tr>\n",
              "    <tr>\n",
              "      <th>8</th>\n",
              "      <td>0.113060</td>\n",
              "      <td>0.968309</td>\n",
              "      <td>0.114765</td>\n",
              "      <td>0.9680</td>\n",
              "    </tr>\n",
              "    <tr>\n",
              "      <th>9</th>\n",
              "      <td>0.103284</td>\n",
              "      <td>0.971673</td>\n",
              "      <td>0.105697</td>\n",
              "      <td>0.9706</td>\n",
              "    </tr>\n",
              "    <tr>\n",
              "      <th>10</th>\n",
              "      <td>0.094520</td>\n",
              "      <td>0.973982</td>\n",
              "      <td>0.102502</td>\n",
              "      <td>0.9708</td>\n",
              "    </tr>\n",
              "    <tr>\n",
              "      <th>11</th>\n",
              "      <td>0.087525</td>\n",
              "      <td>0.975636</td>\n",
              "      <td>0.098848</td>\n",
              "      <td>0.9722</td>\n",
              "    </tr>\n",
              "    <tr>\n",
              "      <th>12</th>\n",
              "      <td>0.080780</td>\n",
              "      <td>0.977527</td>\n",
              "      <td>0.094346</td>\n",
              "      <td>0.9720</td>\n",
              "    </tr>\n",
              "    <tr>\n",
              "      <th>13</th>\n",
              "      <td>0.074940</td>\n",
              "      <td>0.979800</td>\n",
              "      <td>0.088884</td>\n",
              "      <td>0.9756</td>\n",
              "    </tr>\n",
              "    <tr>\n",
              "      <th>14</th>\n",
              "      <td>0.069567</td>\n",
              "      <td>0.981127</td>\n",
              "      <td>0.085622</td>\n",
              "      <td>0.9764</td>\n",
              "    </tr>\n",
              "    <tr>\n",
              "      <th>15</th>\n",
              "      <td>0.065302</td>\n",
              "      <td>0.982018</td>\n",
              "      <td>0.081581</td>\n",
              "      <td>0.9774</td>\n",
              "    </tr>\n",
              "    <tr>\n",
              "      <th>16</th>\n",
              "      <td>0.060952</td>\n",
              "      <td>0.983527</td>\n",
              "      <td>0.081332</td>\n",
              "      <td>0.9768</td>\n",
              "    </tr>\n",
              "    <tr>\n",
              "      <th>17</th>\n",
              "      <td>0.057155</td>\n",
              "      <td>0.984709</td>\n",
              "      <td>0.077876</td>\n",
              "      <td>0.9778</td>\n",
              "    </tr>\n",
              "    <tr>\n",
              "      <th>18</th>\n",
              "      <td>0.053485</td>\n",
              "      <td>0.985709</td>\n",
              "      <td>0.078817</td>\n",
              "      <td>0.9776</td>\n",
              "    </tr>\n",
              "    <tr>\n",
              "      <th>19</th>\n",
              "      <td>0.050361</td>\n",
              "      <td>0.986691</td>\n",
              "      <td>0.075866</td>\n",
              "      <td>0.9796</td>\n",
              "    </tr>\n",
              "    <tr>\n",
              "      <th>20</th>\n",
              "      <td>0.047232</td>\n",
              "      <td>0.987800</td>\n",
              "      <td>0.074956</td>\n",
              "      <td>0.9790</td>\n",
              "    </tr>\n",
              "    <tr>\n",
              "      <th>21</th>\n",
              "      <td>0.044325</td>\n",
              "      <td>0.988745</td>\n",
              "      <td>0.076448</td>\n",
              "      <td>0.9782</td>\n",
              "    </tr>\n",
              "    <tr>\n",
              "      <th>22</th>\n",
              "      <td>0.041802</td>\n",
              "      <td>0.989382</td>\n",
              "      <td>0.073739</td>\n",
              "      <td>0.9798</td>\n",
              "    </tr>\n",
              "    <tr>\n",
              "      <th>23</th>\n",
              "      <td>0.039326</td>\n",
              "      <td>0.990345</td>\n",
              "      <td>0.070454</td>\n",
              "      <td>0.9812</td>\n",
              "    </tr>\n",
              "    <tr>\n",
              "      <th>24</th>\n",
              "      <td>0.036728</td>\n",
              "      <td>0.990691</td>\n",
              "      <td>0.071814</td>\n",
              "      <td>0.9796</td>\n",
              "    </tr>\n",
              "    <tr>\n",
              "      <th>25</th>\n",
              "      <td>0.034908</td>\n",
              "      <td>0.991564</td>\n",
              "      <td>0.070383</td>\n",
              "      <td>0.9802</td>\n",
              "    </tr>\n",
              "    <tr>\n",
              "      <th>26</th>\n",
              "      <td>0.032734</td>\n",
              "      <td>0.992236</td>\n",
              "      <td>0.067967</td>\n",
              "      <td>0.9814</td>\n",
              "    </tr>\n",
              "    <tr>\n",
              "      <th>27</th>\n",
              "      <td>0.031031</td>\n",
              "      <td>0.992818</td>\n",
              "      <td>0.069047</td>\n",
              "      <td>0.9810</td>\n",
              "    </tr>\n",
              "    <tr>\n",
              "      <th>28</th>\n",
              "      <td>0.029273</td>\n",
              "      <td>0.993145</td>\n",
              "      <td>0.074579</td>\n",
              "      <td>0.9788</td>\n",
              "    </tr>\n",
              "    <tr>\n",
              "      <th>29</th>\n",
              "      <td>0.027564</td>\n",
              "      <td>0.993945</td>\n",
              "      <td>0.069212</td>\n",
              "      <td>0.9818</td>\n",
              "    </tr>\n",
              "  </tbody>\n",
              "</table>\n",
              "</div>\n",
              "      <button class=\"colab-df-convert\" onclick=\"convertToInteractive('df-49f1a23a-5ba5-424f-bd35-cc0782637c42')\"\n",
              "              title=\"Convert this dataframe to an interactive table.\"\n",
              "              style=\"display:none;\">\n",
              "        \n",
              "  <svg xmlns=\"http://www.w3.org/2000/svg\" height=\"24px\"viewBox=\"0 0 24 24\"\n",
              "       width=\"24px\">\n",
              "    <path d=\"M0 0h24v24H0V0z\" fill=\"none\"/>\n",
              "    <path d=\"M18.56 5.44l.94 2.06.94-2.06 2.06-.94-2.06-.94-.94-2.06-.94 2.06-2.06.94zm-11 1L8.5 8.5l.94-2.06 2.06-.94-2.06-.94L8.5 2.5l-.94 2.06-2.06.94zm10 10l.94 2.06.94-2.06 2.06-.94-2.06-.94-.94-2.06-.94 2.06-2.06.94z\"/><path d=\"M17.41 7.96l-1.37-1.37c-.4-.4-.92-.59-1.43-.59-.52 0-1.04.2-1.43.59L10.3 9.45l-7.72 7.72c-.78.78-.78 2.05 0 2.83L4 21.41c.39.39.9.59 1.41.59.51 0 1.02-.2 1.41-.59l7.78-7.78 2.81-2.81c.8-.78.8-2.07 0-2.86zM5.41 20L4 18.59l7.72-7.72 1.47 1.35L5.41 20z\"/>\n",
              "  </svg>\n",
              "      </button>\n",
              "      \n",
              "  <style>\n",
              "    .colab-df-container {\n",
              "      display:flex;\n",
              "      flex-wrap:wrap;\n",
              "      gap: 12px;\n",
              "    }\n",
              "\n",
              "    .colab-df-convert {\n",
              "      background-color: #E8F0FE;\n",
              "      border: none;\n",
              "      border-radius: 50%;\n",
              "      cursor: pointer;\n",
              "      display: none;\n",
              "      fill: #1967D2;\n",
              "      height: 32px;\n",
              "      padding: 0 0 0 0;\n",
              "      width: 32px;\n",
              "    }\n",
              "\n",
              "    .colab-df-convert:hover {\n",
              "      background-color: #E2EBFA;\n",
              "      box-shadow: 0px 1px 2px rgba(60, 64, 67, 0.3), 0px 1px 3px 1px rgba(60, 64, 67, 0.15);\n",
              "      fill: #174EA6;\n",
              "    }\n",
              "\n",
              "    [theme=dark] .colab-df-convert {\n",
              "      background-color: #3B4455;\n",
              "      fill: #D2E3FC;\n",
              "    }\n",
              "\n",
              "    [theme=dark] .colab-df-convert:hover {\n",
              "      background-color: #434B5C;\n",
              "      box-shadow: 0px 1px 3px 1px rgba(0, 0, 0, 0.15);\n",
              "      filter: drop-shadow(0px 1px 2px rgba(0, 0, 0, 0.3));\n",
              "      fill: #FFFFFF;\n",
              "    }\n",
              "  </style>\n",
              "\n",
              "      <script>\n",
              "        const buttonEl =\n",
              "          document.querySelector('#df-49f1a23a-5ba5-424f-bd35-cc0782637c42 button.colab-df-convert');\n",
              "        buttonEl.style.display =\n",
              "          google.colab.kernel.accessAllowed ? 'block' : 'none';\n",
              "\n",
              "        async function convertToInteractive(key) {\n",
              "          const element = document.querySelector('#df-49f1a23a-5ba5-424f-bd35-cc0782637c42');\n",
              "          const dataTable =\n",
              "            await google.colab.kernel.invokeFunction('convertToInteractive',\n",
              "                                                     [key], {});\n",
              "          if (!dataTable) return;\n",
              "\n",
              "          const docLinkHtml = 'Like what you see? Visit the ' +\n",
              "            '<a target=\"_blank\" href=https://colab.research.google.com/notebooks/data_table.ipynb>data table notebook</a>'\n",
              "            + ' to learn more about interactive tables.';\n",
              "          element.innerHTML = '';\n",
              "          dataTable['output_type'] = 'display_data';\n",
              "          await google.colab.output.renderOutput(dataTable, element);\n",
              "          const docLink = document.createElement('div');\n",
              "          docLink.innerHTML = docLinkHtml;\n",
              "          element.appendChild(docLink);\n",
              "        }\n",
              "      </script>\n",
              "    </div>\n",
              "  </div>\n",
              "  "
            ]
          },
          "metadata": {},
          "execution_count": 109
        }
      ]
    },
    {
      "cell_type": "code",
      "source": [
        "## Now let's plot it and check the losses\n",
        "pd.DataFrame(history.history).plot()"
      ],
      "metadata": {
        "colab": {
          "base_uri": "https://localhost:8080/",
          "height": 283
        },
        "id": "_rSmsBWtPUlI",
        "outputId": "904aaa4f-0236-4305-d27e-5f97709287c0"
      },
      "execution_count": 110,
      "outputs": [
        {
          "output_type": "execute_result",
          "data": {
            "text/plain": [
              "<matplotlib.axes._subplots.AxesSubplot at 0x7fd111bc39d0>"
            ]
          },
          "metadata": {},
          "execution_count": 110
        },
        {
          "output_type": "display_data",
          "data": {
            "text/plain": [
              "<Figure size 432x288 with 1 Axes>"
            ],
            "image/png": "[encoded data removed]"
          },
          "metadata": {
            "needs_background": "light"
          }
        }
      ]
    },
    {
      "cell_type": "code",
      "source": [
        "## Let's check the accuracy of the testing data\n",
        "model.evaluate(x_test,y_test)"
      ],
      "metadata": {
        "colab": {
          "base_uri": "https://localhost:8080/"
        },
        "id": "nIAw1tICQfB0",
        "outputId": "404efcb5-d947-4c76-f585-5f56c2163e60"
      },
      "execution_count": 111,
      "outputs": [
        {
          "output_type": "stream",
          "name": "stdout",
          "text": [
            "313/313 [==============================] - 1s 2ms/step - loss: 0.0702 - accuracy: 0.9777\n"
          ]
        },
        {
          "output_type": "execute_result",
          "data": {
            "text/plain": [
              "[0.07022834569215775, 0.9776999950408936]"
            ]
          },
          "metadata": {},
          "execution_count": 111
        }
      ]
    },
    {
      "cell_type": "code",
      "source": [
        "## we got 97 percent accuracy for the x_test data as well\n",
        "\n",
        "## Now let's do prediction on some data points from the x_test\n",
        "\n",
        "x_new_test = x_test[:5]\n",
        "\n",
        "y_prob = model.predict(x_new_test)\n",
        "\n",
        "y_prob     ## It is printing the probability of each class but let's get the max probability out of it."
      ],
      "metadata": {
        "colab": {
          "base_uri": "https://localhost:8080/"
        },
        "id": "Npa0zYarVRgY",
        "outputId": "32d78e9d-300d-4f79-c0c1-38770fc451c5"
      },
      "execution_count": 112,
      "outputs": [
        {
          "output_type": "execute_result",
          "data": {
            "text/plain": [
              "array([[5.72086549e-07, 7.43267634e-08, 8.38406777e-06, 1.82315562e-04,\n",
              "        7.09522840e-09, 1.08913355e-06, 9.20583471e-11, 9.99780834e-01,\n",
              "        2.12182067e-06, 2.45705032e-05],\n",
              "       [2.01350730e-07, 1.51456872e-04, 9.99655008e-01, 1.83167242e-04,\n",
              "        3.32970760e-12, 3.89605432e-08, 9.63697130e-06, 2.32010743e-12,\n",
              "        4.61739347e-07, 2.15672776e-13],\n",
              "       [1.56001647e-06, 9.97282982e-01, 3.48239148e-04, 3.91171925e-05,\n",
              "        7.88120495e-04, 1.14058121e-05, 3.56580713e-05, 7.63919204e-04,\n",
              "        7.25847785e-04, 3.00164129e-06],\n",
              "       [9.99939680e-01, 1.27942510e-08, 4.20070864e-05, 1.02224965e-06,\n",
              "        7.00486957e-09, 5.81088671e-07, 7.93867457e-06, 5.56080886e-06,\n",
              "        1.59119162e-09, 3.22254164e-06],\n",
              "       [5.83118390e-06, 6.95724054e-07, 5.73445459e-06, 1.18720456e-08,\n",
              "        9.99093890e-01, 1.67176751e-07, 9.90586414e-05, 1.05699684e-04,\n",
              "        2.28211720e-05, 6.66092732e-04]], dtype=float32)"
            ]
          },
          "metadata": {},
          "execution_count": 112
        }
      ]
    },
    {
      "cell_type": "code",
      "source": [
        "Y_pred = np.argmax(y_prob, axis=-1)\n",
        "Y_pred   ## These are the classes being predicted"
      ],
      "metadata": {
        "colab": {
          "base_uri": "https://localhost:8080/"
        },
        "id": "guT3NQGbV53c",
        "outputId": "6aa292ee-fd9c-4a00-d59b-ece0760d7ccb"
      },
      "execution_count": 114,
      "outputs": [
        {
          "output_type": "execute_result",
          "data": {
            "text/plain": [
              "array([7, 2, 1, 0, 4])"
            ]
          },
          "metadata": {},
          "execution_count": 114
        }
      ]
    },
    {
      "cell_type": "code",
      "source": [
        "for img, pred,actual in zip(x_new_test,Y_pred,y_test[:5]):\n",
        "  plt.imshow(img, cmap=\"binary\")\n",
        "  plt.title(f\"predicted : {pred} and actual : {actual}\")\n",
        "  plt.axis(\"off\")\n",
        "  plt.show()\n",
        "  print(\"----\"*30)"
      ],
      "metadata": {
        "colab": {
          "base_uri": "https://localhost:8080/",
          "height": 1000
        },
        "id": "ARXb6M4vWJoM",
        "outputId": "29e2d401-ae43-4a70-d0fc-be92a64b12c0"
      },
      "execution_count": 116,
      "outputs": [
        {
          "output_type": "display_data",
          "data": {
            "text/plain": [
              "<Figure size 432x288 with 1 Axes>"
            ],
            "image/png": "[encoded data removed]"
          },
          "metadata": {
            "needs_background": "light"
          }
        },
        {
          "output_type": "stream",
          "name": "stdout",
          "text": [
            "------------------------------------------------------------------------------------------------------------------------\n"
          ]
        },
        {
          "output_type": "display_data",
          "data": {
            "text/plain": [
              "<Figure size 432x288 with 1 Axes>"
            ],
            "image/png": "[encoded data removed]"
          },
          "metadata": {
            "needs_background": "light"
          }
        },
        {
          "output_type": "stream",
          "name": "stdout",
          "text": [
            "------------------------------------------------------------------------------------------------------------------------\n"
          ]
        },
        {
          "output_type": "display_data",
          "data": {
            "text/plain": [
              "<Figure size 432x288 with 1 Axes>"
            ],
            "image/png": "[encoded data removed]"
          },
          "metadata": {
            "needs_background": "light"
          }
        },
        {
          "output_type": "stream",
          "name": "stdout",
          "text": [
            "------------------------------------------------------------------------------------------------------------------------\n"
          ]
        },
        {
          "output_type": "display_data",
          "data": {
            "text/plain": [
              "<Figure size 432x288 with 1 Axes>"
            ],
            "image/png": "[encoded data removed]"
          },
          "metadata": {
            "needs_background": "light"
          }
        },
        {
          "output_type": "stream",
          "name": "stdout",
          "text": [
            "------------------------------------------------------------------------------------------------------------------------\n"
          ]
        },
        {
          "output_type": "display_data",
          "data": {
            "text/plain": [
              "<Figure size 432x288 with 1 Axes>"
            ],
            "image/png": "[encoded data removed]"
          },
          "metadata": {
            "needs_background": "light"
          }
        },
        {
          "output_type": "stream",
          "name": "stdout",
          "text": [
            "------------------------------------------------------------------------------------------------------------------------\n"
          ]
        }
      ]
    },
    {
      "cell_type": "code",
      "source": [
        "## Let's plot the epoch vs loss graph\n",
        "\n",
        "train_accuracy = history.history['accuracy']\n",
        "val_accuracy = history.history['val_accuracy']\n",
        "epochs = range(EPOCHS)\n",
        "plt.plot(epochs, train_accuracy, label = \"training accuracy\")\n",
        "plt.plot(epochs,val_accuracy, label=\"validation accuracy\")\n",
        "plt.title(\"Training and validation accuracy\")\n",
        "plt.xlabel(\"Epochs\")\n",
        "plt.ylabel(\"accuracy\")\n",
        "plt.legend()\n",
        "plt.show()"
      ],
      "metadata": {
        "colab": {
          "base_uri": "https://localhost:8080/",
          "height": 295
        },
        "id": "c3DP-7sHW-9F",
        "outputId": "6749cae9-2d40-4e17-d487-5acf8050ee63"
      },
      "execution_count": 126,
      "outputs": [
        {
          "output_type": "display_data",
          "data": {
            "text/plain": [
              "<Figure size 432x288 with 1 Axes>"
            ],
            "image/png": "[encoded data removed]"
          },
          "metadata": {
            "needs_background": "light"
          }
        }
      ]
    },
    {
      "cell_type": "code",
      "source": [
        ""
      ],
      "metadata": {
        "colab": {
          "base_uri": "https://localhost:8080/"
        },
        "id": "6dwA1xHWYwgh",
        "outputId": "ad595a7c-c5e8-499a-acfa-632dcd5084ca"
      },
      "execution_count": 127,
      "outputs": [
        {
          "output_type": "execute_result",
          "data": {
            "text/plain": [
              "list"
            ]
          },
          "metadata": {},
          "execution_count": 127
        }
      ]
    },
    {
      "cell_type": "code",
      "source": [
        ""
      ],
      "metadata": {
        "id": "er_3PIH_atKv"
      },
      "execution_count": null,
      "outputs": []
    }
  ]
}