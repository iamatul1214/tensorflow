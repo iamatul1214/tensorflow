{
  "nbformat": 4,
  "nbformat_minor": 0,
  "metadata": {
    "colab": {
      "name": "Different_optimisers.ipynb",
      "provenance": [],
      "mount_file_id": "1ZxVA8WKZ1ikqByR3oPYnt8LXxV5YzzVG",
      "authorship_tag": "ABX9TyNo9gyoqb5uutWSOa+bbUFC",
      "include_colab_link": true
    },
    "kernelspec": {
      "name": "python3",
      "display_name": "Python 3"
    },
    "language_info": {
      "name": "python"
    },
    "accelerator": "GPU"
  },
  "cells": [
    {
      "cell_type": "markdown",
      "metadata": {
        "id": "view-in-github",
        "colab_type": "text"
      },
      "source": [
        "<a href=\"https://colab.research.google.com/github/iamatul1214/tensorflow/blob/main/Different_optimisers.ipynb\" target=\"_parent\"><img src=\"https://colab.research.google.com/assets/colab-badge.svg\" alt=\"Open In Colab\"/></a>"
      ]
    },
    {
      "cell_type": "code",
      "execution_count": 1,
      "metadata": {
        "id": "a0es-GT7P6Uc"
      },
      "outputs": [],
      "source": [
        "import os\n",
        "root = \"/content/drive/MyDrive/Colab_practices\"\n",
        "os.chdir(root)"
      ]
    },
    {
      "cell_type": "code",
      "source": [
        "import tensorflow as tf\n",
        "import numpy as np\n",
        "import matplotlib.pyplot as plt\n",
        "import seaborn as sns\n",
        "%load_ext tensorboard\n",
        "import time"
      ],
      "metadata": {
        "colab": {
          "base_uri": "https://localhost:8080/"
        },
        "id": "mdS3cLE1SIch",
        "outputId": "2ab99511-b358-42f7-96bb-5b80b55bdfe8"
      },
      "execution_count": 18,
      "outputs": [
        {
          "output_type": "stream",
          "name": "stdout",
          "text": [
            "The tensorboard extension is already loaded. To reload it, use:\n",
            "  %reload_ext tensorboard\n"
          ]
        }
      ]
    },
    {
      "cell_type": "code",
      "source": [
        "(X_train_full, y_train_full), (X_test, y_test) = tf.keras.datasets.mnist.load_data()\n",
        "X_train_full = X_train_full / 255.0\n",
        "X_test = X_test / 255.0\n",
        "X_valid, X_train = X_train_full[:5000], X_train_full[5000:]\n",
        "y_valid, y_train = y_train_full[:5000], y_train_full[5000:]"
      ],
      "metadata": {
        "colab": {
          "base_uri": "https://localhost:8080/"
        },
        "id": "dzQJSvBuSPWg",
        "outputId": "0cdad36c-1655-42b9-cf6e-5f6d6c1f3db5"
      },
      "execution_count": 6,
      "outputs": [
        {
          "output_type": "stream",
          "name": "stdout",
          "text": [
            "Downloading data from https://storage.googleapis.com/tensorflow/tf-keras-datasets/mnist.npz\n",
            "11493376/11490434 [==============================] - 0s 0us/step\n",
            "11501568/11490434 [==============================] - 0s 0us/step\n"
          ]
        }
      ]
    },
    {
      "cell_type": "code",
      "source": [
        "tf.random.set_seed(42)\n",
        "np.random.seed(42)\n",
        "\n",
        "LAYERS = [\n",
        "          tf.keras.layers.Flatten(input_shape = [28,28]),\n",
        "          tf.keras.layers.Dense(300,kernel_initializer = \"he_normal\"),\n",
        "          tf.keras.layers.LeakyReLU(),\n",
        "          tf.keras.layers.Dense(100, kernel_initializer=\"he_normal\"),\n",
        "          tf.keras.layers.LeakyReLU(),\n",
        "          tf.keras.layers.Dense(10, activation=\"softmax\")]\n",
        "\n",
        "model = tf.keras.models.Sequential(LAYERS)"
      ],
      "metadata": {
        "id": "JJZilVouS6mq"
      },
      "execution_count": 9,
      "outputs": []
    },
    {
      "cell_type": "code",
      "source": [
        "## Now we will create a dictionary which will store all the optimisers with the time taken to train with them\n",
        "\n",
        "time_optimiser_dict = {}"
      ],
      "metadata": {
        "id": "bgu7uQKPXSiZ"
      },
      "execution_count": 20,
      "outputs": []
    },
    {
      "cell_type": "code",
      "source": [
        "## SGD\n",
        "\n",
        "model.compile(loss=\"sparse_categorical_crossentropy\",\n",
        "              optimizer=tf.keras.optimizers.SGD(learning_rate=1e-3),\n",
        "              metrics=[\"accuracy\"])"
      ],
      "metadata": {
        "id": "-Xejbi0PTtck"
      },
      "execution_count": 10,
      "outputs": []
    },
    {
      "cell_type": "code",
      "source": [
        "model.summary()"
      ],
      "metadata": {
        "colab": {
          "base_uri": "https://localhost:8080/"
        },
        "id": "UUQ8XW59T5O_",
        "outputId": "7c2c59ef-33a4-4a5d-87e9-b6c22f14317c"
      },
      "execution_count": 12,
      "outputs": [
        {
          "output_type": "stream",
          "name": "stdout",
          "text": [
            "Model: \"sequential\"\n",
            "_________________________________________________________________\n",
            " Layer (type)                Output Shape              Param #   \n",
            "=================================================================\n",
            " flatten_2 (Flatten)         (None, 784)               0         \n",
            "                                                                 \n",
            " dense (Dense)               (None, 300)               235500    \n",
            "                                                                 \n",
            " leaky_re_lu (LeakyReLU)     (None, 300)               0         \n",
            "                                                                 \n",
            " dense_1 (Dense)             (None, 100)               30100     \n",
            "                                                                 \n",
            " leaky_re_lu_1 (LeakyReLU)   (None, 100)               0         \n",
            "                                                                 \n",
            " dense_2 (Dense)             (None, 10)                1010      \n",
            "                                                                 \n",
            "=================================================================\n",
            "Total params: 266,610\n",
            "Trainable params: 266,610\n",
            "Non-trainable params: 0\n",
            "_________________________________________________________________\n"
          ]
        }
      ]
    },
    {
      "cell_type": "code",
      "source": [
        "begin = time.time()\n",
        "sgd_model = model.fit(X_train , y_train, epochs = 10, validation_data=(X_valid,y_valid), verbose = 2)\n",
        "end = time.time()\n",
        "total_time_SGD = end - begin \n",
        "time_optimiser_dict['SGD_time'] = total_time_SGD\n",
        "print(time_optimiser_dict)"
      ],
      "metadata": {
        "colab": {
          "base_uri": "https://localhost:8080/"
        },
        "id": "egu7U6hVT64w",
        "outputId": "2c37fd66-6ae8-463e-e3b9-8a329cf7063c"
      },
      "execution_count": 21,
      "outputs": [
        {
          "output_type": "stream",
          "name": "stdout",
          "text": [
            "Epoch 1/10\n",
            "1719/1719 - 5s - loss: 0.2012 - accuracy: 0.9434 - val_loss: 0.1958 - val_accuracy: 0.9448 - 5s/epoch - 3ms/step\n",
            "Epoch 2/10\n",
            "1719/1719 - 5s - loss: 0.1988 - accuracy: 0.9442 - val_loss: 0.1939 - val_accuracy: 0.9466 - 5s/epoch - 3ms/step\n",
            "Epoch 3/10\n",
            "1719/1719 - 5s - loss: 0.1966 - accuracy: 0.9445 - val_loss: 0.1920 - val_accuracy: 0.9470 - 5s/epoch - 3ms/step\n",
            "Epoch 4/10\n",
            "1719/1719 - 5s - loss: 0.1945 - accuracy: 0.9454 - val_loss: 0.1906 - val_accuracy: 0.9476 - 5s/epoch - 3ms/step\n",
            "Epoch 5/10\n",
            "1719/1719 - 5s - loss: 0.1924 - accuracy: 0.9464 - val_loss: 0.1885 - val_accuracy: 0.9484 - 5s/epoch - 3ms/step\n",
            "Epoch 6/10\n",
            "1719/1719 - 5s - loss: 0.1903 - accuracy: 0.9470 - val_loss: 0.1871 - val_accuracy: 0.9490 - 5s/epoch - 3ms/step\n",
            "Epoch 7/10\n",
            "1719/1719 - 6s - loss: 0.1884 - accuracy: 0.9472 - val_loss: 0.1854 - val_accuracy: 0.9496 - 6s/epoch - 3ms/step\n",
            "Epoch 8/10\n",
            "1719/1719 - 6s - loss: 0.1865 - accuracy: 0.9477 - val_loss: 0.1840 - val_accuracy: 0.9500 - 6s/epoch - 4ms/step\n",
            "Epoch 9/10\n",
            "1719/1719 - 6s - loss: 0.1846 - accuracy: 0.9485 - val_loss: 0.1827 - val_accuracy: 0.9508 - 6s/epoch - 3ms/step\n",
            "Epoch 10/10\n",
            "1719/1719 - 5s - loss: 0.1830 - accuracy: 0.9488 - val_loss: 0.1809 - val_accuracy: 0.9506 - 5s/epoch - 3ms/step\n",
            "{'SGD_time': 54.44321894645691}\n"
          ]
        }
      ]
    },
    {
      "cell_type": "code",
      "source": [
        "## AdGRAD\n",
        "\n",
        "model.compile(loss=\"sparse_categorical_crossentropy\",\n",
        "              optimizer=tf.keras.optimizers.Adagrad(learning_rate=1e-3),\n",
        "              metrics=[\"accuracy\"])"
      ],
      "metadata": {
        "id": "Tjw-zaZbUcX5"
      },
      "execution_count": 14,
      "outputs": []
    },
    {
      "cell_type": "code",
      "source": [
        "model.summary()"
      ],
      "metadata": {
        "colab": {
          "base_uri": "https://localhost:8080/"
        },
        "id": "njSUOeVKVHto",
        "outputId": "98b032fd-d202-4022-d639-5d46cc477c8d"
      },
      "execution_count": 16,
      "outputs": [
        {
          "output_type": "stream",
          "name": "stdout",
          "text": [
            "Model: \"sequential\"\n",
            "_________________________________________________________________\n",
            " Layer (type)                Output Shape              Param #   \n",
            "=================================================================\n",
            " flatten_2 (Flatten)         (None, 784)               0         \n",
            "                                                                 \n",
            " dense (Dense)               (None, 300)               235500    \n",
            "                                                                 \n",
            " leaky_re_lu (LeakyReLU)     (None, 300)               0         \n",
            "                                                                 \n",
            " dense_1 (Dense)             (None, 100)               30100     \n",
            "                                                                 \n",
            " leaky_re_lu_1 (LeakyReLU)   (None, 100)               0         \n",
            "                                                                 \n",
            " dense_2 (Dense)             (None, 10)                1010      \n",
            "                                                                 \n",
            "=================================================================\n",
            "Total params: 266,610\n",
            "Trainable params: 266,610\n",
            "Non-trainable params: 0\n",
            "_________________________________________________________________\n"
          ]
        }
      ]
    },
    {
      "cell_type": "code",
      "source": [
        "begin = time.time()\n",
        "Adagrad_model = model.fit(X_train , y_train, epochs = 10, validation_data=(X_valid,y_valid), verbose = 2)\n",
        "end = time.time()\n",
        "total_time_Adagrad = end - begin\n",
        "time_optimiser_dict['Adagrad_time'] = total_time_Adagrad\n",
        "print(time_optimiser_dict)"
      ],
      "metadata": {
        "colab": {
          "base_uri": "https://localhost:8080/"
        },
        "id": "tzeuMyy5VKkJ",
        "outputId": "8db4f7bf-2b8a-41fb-f5be-1a127e06267b"
      },
      "execution_count": 22,
      "outputs": [
        {
          "output_type": "stream",
          "name": "stdout",
          "text": [
            "Epoch 1/10\n",
            "1719/1719 - 5s - loss: 0.1812 - accuracy: 0.9497 - val_loss: 0.1795 - val_accuracy: 0.9512 - 5s/epoch - 3ms/step\n",
            "Epoch 2/10\n",
            "1719/1719 - 5s - loss: 0.1795 - accuracy: 0.9499 - val_loss: 0.1781 - val_accuracy: 0.9516 - 5s/epoch - 3ms/step\n",
            "Epoch 3/10\n",
            "1719/1719 - 5s - loss: 0.1780 - accuracy: 0.9503 - val_loss: 0.1768 - val_accuracy: 0.9524 - 5s/epoch - 3ms/step\n",
            "Epoch 4/10\n",
            "1719/1719 - 5s - loss: 0.1764 - accuracy: 0.9507 - val_loss: 0.1759 - val_accuracy: 0.9530 - 5s/epoch - 3ms/step\n",
            "Epoch 5/10\n",
            "1719/1719 - 5s - loss: 0.1749 - accuracy: 0.9513 - val_loss: 0.1743 - val_accuracy: 0.9534 - 5s/epoch - 3ms/step\n",
            "Epoch 6/10\n",
            "1719/1719 - 5s - loss: 0.1734 - accuracy: 0.9514 - val_loss: 0.1733 - val_accuracy: 0.9532 - 5s/epoch - 3ms/step\n",
            "Epoch 7/10\n",
            "1719/1719 - 6s - loss: 0.1720 - accuracy: 0.9521 - val_loss: 0.1721 - val_accuracy: 0.9542 - 6s/epoch - 3ms/step\n",
            "Epoch 8/10\n",
            "1719/1719 - 5s - loss: 0.1706 - accuracy: 0.9525 - val_loss: 0.1711 - val_accuracy: 0.9554 - 5s/epoch - 3ms/step\n",
            "Epoch 9/10\n",
            "1719/1719 - 5s - loss: 0.1691 - accuracy: 0.9526 - val_loss: 0.1702 - val_accuracy: 0.9542 - 5s/epoch - 3ms/step\n",
            "Epoch 10/10\n",
            "1719/1719 - 5s - loss: 0.1679 - accuracy: 0.9533 - val_loss: 0.1687 - val_accuracy: 0.9546 - 5s/epoch - 3ms/step\n",
            "{'SGD_time': 54.44321894645691, 'Adagrad_time': 50.92583107948303}\n"
          ]
        }
      ]
    },
    {
      "cell_type": "code",
      "source": [
        "## RMSprop\n",
        "\n",
        "model.compile(loss=\"sparse_categorical_crossentropy\",\n",
        "              optimizer=tf.keras.optimizers.RMSprop(learning_rate=1e-3),\n",
        "              metrics=[\"accuracy\"])\n",
        "\n",
        "model.summary()"
      ],
      "metadata": {
        "colab": {
          "base_uri": "https://localhost:8080/"
        },
        "id": "sEd6XeAxVPl8",
        "outputId": "82490b6b-ab85-44b4-c8ef-839d17921a7d"
      },
      "execution_count": 23,
      "outputs": [
        {
          "output_type": "stream",
          "name": "stdout",
          "text": [
            "Model: \"sequential\"\n",
            "_________________________________________________________________\n",
            " Layer (type)                Output Shape              Param #   \n",
            "=================================================================\n",
            " flatten_2 (Flatten)         (None, 784)               0         \n",
            "                                                                 \n",
            " dense (Dense)               (None, 300)               235500    \n",
            "                                                                 \n",
            " leaky_re_lu (LeakyReLU)     (None, 300)               0         \n",
            "                                                                 \n",
            " dense_1 (Dense)             (None, 100)               30100     \n",
            "                                                                 \n",
            " leaky_re_lu_1 (LeakyReLU)   (None, 100)               0         \n",
            "                                                                 \n",
            " dense_2 (Dense)             (None, 10)                1010      \n",
            "                                                                 \n",
            "=================================================================\n",
            "Total params: 266,610\n",
            "Trainable params: 266,610\n",
            "Non-trainable params: 0\n",
            "_________________________________________________________________\n"
          ]
        }
      ]
    },
    {
      "cell_type": "code",
      "source": [
        "begin = time.time()\n",
        "RMSprop_model = model.fit(X_train , y_train, epochs = 10, validation_data=(X_valid,y_valid), verbose = 2)\n",
        "end = time.time()\n",
        "total_time_RMSprop = end - begin\n",
        "time_optimiser_dict['RMSprop time'] = total_time_RMSprop\n",
        "print(time_optimiser_dict)"
      ],
      "metadata": {
        "colab": {
          "base_uri": "https://localhost:8080/"
        },
        "id": "5zO_wsQmYn8k",
        "outputId": "c42a4c77-acad-4579-c25b-d3fa45bb271d"
      },
      "execution_count": 31,
      "outputs": [
        {
          "output_type": "stream",
          "name": "stdout",
          "text": [
            "Epoch 1/10\n",
            "1719/1719 - 5s - loss: 0.0250 - accuracy: 0.9940 - val_loss: 0.1793 - val_accuracy: 0.9758 - 5s/epoch - 3ms/step\n",
            "Epoch 2/10\n",
            "1719/1719 - 6s - loss: 0.0277 - accuracy: 0.9930 - val_loss: 0.1836 - val_accuracy: 0.9752 - 6s/epoch - 3ms/step\n",
            "Epoch 3/10\n",
            "1719/1719 - 5s - loss: 0.0228 - accuracy: 0.9941 - val_loss: 0.1663 - val_accuracy: 0.9766 - 5s/epoch - 3ms/step\n",
            "Epoch 4/10\n",
            "1719/1719 - 5s - loss: 0.0202 - accuracy: 0.9945 - val_loss: 0.1793 - val_accuracy: 0.9778 - 5s/epoch - 3ms/step\n",
            "Epoch 5/10\n",
            "1719/1719 - 5s - loss: 0.0253 - accuracy: 0.9936 - val_loss: 0.2444 - val_accuracy: 0.9738 - 5s/epoch - 3ms/step\n",
            "Epoch 6/10\n",
            "1719/1719 - 5s - loss: 0.0265 - accuracy: 0.9936 - val_loss: 0.2185 - val_accuracy: 0.9770 - 5s/epoch - 3ms/step\n",
            "Epoch 7/10\n",
            "1719/1719 - 5s - loss: 0.0232 - accuracy: 0.9944 - val_loss: 0.2226 - val_accuracy: 0.9756 - 5s/epoch - 3ms/step\n",
            "Epoch 8/10\n",
            "1719/1719 - 5s - loss: 0.0215 - accuracy: 0.9949 - val_loss: 0.2283 - val_accuracy: 0.9728 - 5s/epoch - 3ms/step\n",
            "Epoch 9/10\n",
            "1719/1719 - 5s - loss: 0.0256 - accuracy: 0.9936 - val_loss: 0.2064 - val_accuracy: 0.9778 - 5s/epoch - 3ms/step\n",
            "Epoch 10/10\n",
            "1719/1719 - 5s - loss: 0.0226 - accuracy: 0.9947 - val_loss: 0.1848 - val_accuracy: 0.9792 - 5s/epoch - 3ms/step\n",
            "{'SGD_time': 54.44321894645691, 'Adagrad_time': 50.92583107948303, 'RMSprop time': 82.07178211212158, 'Adam time': 52.249937295913696}\n"
          ]
        }
      ]
    },
    {
      "cell_type": "code",
      "source": [
        "## ADAM\n",
        "model.compile(loss=\"sparse_categorical_crossentropy\",\n",
        "              optimizer=tf.keras.optimizers.Adam(learning_rate=1e-3),\n",
        "              metrics=[\"accuracy\"])\n",
        "\n",
        "model.summary()"
      ],
      "metadata": {
        "colab": {
          "base_uri": "https://localhost:8080/"
        },
        "id": "sDBJIR3hYy3U",
        "outputId": "065d893a-dc84-495a-d713-66523b219013"
      },
      "execution_count": 26,
      "outputs": [
        {
          "output_type": "stream",
          "name": "stdout",
          "text": [
            "Model: \"sequential\"\n",
            "_________________________________________________________________\n",
            " Layer (type)                Output Shape              Param #   \n",
            "=================================================================\n",
            " flatten_2 (Flatten)         (None, 784)               0         \n",
            "                                                                 \n",
            " dense (Dense)               (None, 300)               235500    \n",
            "                                                                 \n",
            " leaky_re_lu (LeakyReLU)     (None, 300)               0         \n",
            "                                                                 \n",
            " dense_1 (Dense)             (None, 100)               30100     \n",
            "                                                                 \n",
            " leaky_re_lu_1 (LeakyReLU)   (None, 100)               0         \n",
            "                                                                 \n",
            " dense_2 (Dense)             (None, 10)                1010      \n",
            "                                                                 \n",
            "=================================================================\n",
            "Total params: 266,610\n",
            "Trainable params: 266,610\n",
            "Non-trainable params: 0\n",
            "_________________________________________________________________\n"
          ]
        }
      ]
    },
    {
      "cell_type": "code",
      "source": [
        "begin = time.time()\n",
        "Adam_model = model.fit(X_train , y_train, epochs = 10, validation_data=(X_valid,y_valid), verbose = 2)\n",
        "end = time.time()\n",
        "total_time_ADAM = end - begin\n",
        "time_optimiser_dict['Adam time'] = total_time_ADAM\n",
        "print(time_optimiser_dict)"
      ],
      "metadata": {
        "colab": {
          "base_uri": "https://localhost:8080/"
        },
        "id": "vD70uKokZOs0",
        "outputId": "50e14368-f083-4bd6-a464-2b6fd514e1cb"
      },
      "execution_count": 29,
      "outputs": [
        {
          "output_type": "stream",
          "name": "stdout",
          "text": [
            "Epoch 1/10\n",
            "1719/1719 - 5s - loss: 0.0338 - accuracy: 0.9901 - val_loss: 0.1719 - val_accuracy: 0.9708 - 5s/epoch - 3ms/step\n",
            "Epoch 2/10\n",
            "1719/1719 - 5s - loss: 0.0251 - accuracy: 0.9923 - val_loss: 0.1310 - val_accuracy: 0.9758 - 5s/epoch - 3ms/step\n",
            "Epoch 3/10\n",
            "1719/1719 - 5s - loss: 0.0283 - accuracy: 0.9917 - val_loss: 0.1480 - val_accuracy: 0.9786 - 5s/epoch - 3ms/step\n",
            "Epoch 4/10\n",
            "1719/1719 - 5s - loss: 0.0307 - accuracy: 0.9915 - val_loss: 0.1979 - val_accuracy: 0.9702 - 5s/epoch - 3ms/step\n",
            "Epoch 5/10\n",
            "1719/1719 - 5s - loss: 0.0272 - accuracy: 0.9919 - val_loss: 0.1804 - val_accuracy: 0.9728 - 5s/epoch - 3ms/step\n",
            "Epoch 6/10\n",
            "1719/1719 - 5s - loss: 0.0261 - accuracy: 0.9928 - val_loss: 0.1278 - val_accuracy: 0.9796 - 5s/epoch - 3ms/step\n",
            "Epoch 7/10\n",
            "1719/1719 - 5s - loss: 0.0286 - accuracy: 0.9923 - val_loss: 0.1805 - val_accuracy: 0.9740 - 5s/epoch - 3ms/step\n",
            "Epoch 8/10\n",
            "1719/1719 - 5s - loss: 0.0246 - accuracy: 0.9932 - val_loss: 0.1770 - val_accuracy: 0.9752 - 5s/epoch - 3ms/step\n",
            "Epoch 9/10\n",
            "1719/1719 - 5s - loss: 0.0245 - accuracy: 0.9935 - val_loss: 0.1860 - val_accuracy: 0.9778 - 5s/epoch - 3ms/step\n",
            "Epoch 10/10\n",
            "1719/1719 - 6s - loss: 0.0260 - accuracy: 0.9930 - val_loss: 0.1791 - val_accuracy: 0.9758 - 6s/epoch - 3ms/step\n",
            "{'SGD_time': 54.44321894645691, 'Adagrad_time': 50.92583107948303, 'RMSprop time': 82.76120257377625, 'Adam time': 52.249937295913696}\n"
          ]
        }
      ]
    },
    {
      "cell_type": "code",
      "source": [
        "## Plotting the time taken by each optimiser\n",
        "plt.bar(*zip(*time_optimiser_dict.items()))\n",
        "plt.show()"
      ],
      "metadata": {
        "colab": {
          "base_uri": "https://localhost:8080/",
          "height": 266
        },
        "id": "yY-jt_l8Zbjf",
        "outputId": "550f2db1-ce37-486b-b8ae-90aab1027242"
      },
      "execution_count": 32,
      "outputs": [
        {
          "output_type": "display_data",
          "data": {
            "text/plain": [
              "<Figure size 432x288 with 1 Axes>"
            ],
            "image/png": "[encoded data removed]"
          },
          "metadata": {
            "needs_background": "light"
          }
        }
      ]
    },
    {
      "cell_type": "code",
      "source": [
        ""
      ],
      "metadata": {
        "id": "r0AFSSkXZ6ZZ"
      },
      "execution_count": null,
      "outputs": []
    }
  ]
}